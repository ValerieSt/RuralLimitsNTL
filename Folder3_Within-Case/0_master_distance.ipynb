{
 "cells": [
  {
   "cell_type": "code",
   "execution_count": null,
   "id": "3d7a735b-08d5-4dbd-8591-fad99ba741f5",
   "metadata": {},
   "outputs": [
    {
     "data": {
      "application/vnd.jupyter.widget-view+json": {
       "model_id": "d08321718a8c4f5bac59103f3342ffa5",
       "version_major": 2,
       "version_minor": 0
      },
      "text/plain": [
       "Executing:   0%|          | 0/25 [00:00<?, ?cell/s]"
      ]
     },
     "metadata": {},
     "output_type": "display_data"
    },
    {
     "data": {
      "application/vnd.jupyter.widget-view+json": {
       "model_id": "e461d138141143aba344a9b761009f86",
       "version_major": 2,
       "version_minor": 0
      },
      "text/plain": [
       "Executing:   0%|          | 0/2 [00:00<?, ?cell/s]"
      ]
     },
     "metadata": {},
     "output_type": "display_data"
    },
    {
     "data": {
      "application/vnd.jupyter.widget-view+json": {
       "model_id": "896104baf5da4c69a49e069a44dcb46f",
       "version_major": 2,
       "version_minor": 0
      },
      "text/plain": [
       "Executing:   0%|          | 0/3 [00:00<?, ?cell/s]"
      ]
     },
     "metadata": {},
     "output_type": "display_data"
    },
    {
     "data": {
      "application/vnd.jupyter.widget-view+json": {
       "model_id": "bc7c0494c2f840898b81669d6da76409",
       "version_major": 2,
       "version_minor": 0
      },
      "text/plain": [
       "Executing:   0%|          | 0/6 [00:00<?, ?cell/s]"
      ]
     },
     "metadata": {},
     "output_type": "display_data"
    }
   ],
   "source": [
    "import papermill as pm\n",
    "import os\n",
    "import shutil\n",
    "\n",
    "countrycode = 'default'\n",
    "countryname = 'default'\n",
    "\n",
    "# List of parameter sets\n",
    "parameter_sets = [\n",
    "    {'countrycode': 'AGO', 'countryname': 'Angola'},\n",
    "    {'countrycode': 'BDI', 'countryname': 'Burundi'},\n",
    "    {'countrycode': 'BFA', 'countryname': 'Burkina Faso'},\n",
    "    {'countrycode': 'CMR', 'countryname': 'Cameroon'},\n",
    "    {'countrycode': 'CAF', 'countryname': 'Central African Republic'},\n",
    "    {'countrycode': 'COD', 'countryname': 'Democratic Republic of the Congo'},\n",
    "    {'countrycode': 'COG', 'countryname': 'Congo'},\n",
    "    {'countrycode': 'ERI', 'countryname': 'Eritrea'},\n",
    "    {'countrycode': 'ETH', 'countryname': 'Ethiopia'},\n",
    "    {'countrycode': 'KEN', 'countryname': 'Kenya'},\n",
    "    {'countrycode': 'MLI', 'countryname': 'Mali'},\n",
    "    {'countrycode': 'MOZ', 'countryname': 'Mozambique'},\n",
    "    {'countrycode': 'NER', 'countryname': 'Niger'},\n",
    "    {'countrycode': 'NGA', 'countryname': 'Nigeria'},\n",
    "    {'countrycode': 'RWA', 'countryname': 'Rwanda'},\n",
    "    {'countrycode': 'SDN', 'countryname': 'Sudan'},\n",
    "    {'countrycode': 'SOM', 'countryname': 'Somalia'},\n",
    "    {'countrycode': 'SSD', 'countryname': 'South Sudan'},\n",
    "    {'countrycode': 'TCD', 'countryname': 'Chad'},\n",
    "    {'countrycode': 'TZA', 'countryname': 'Tanzania'},\n",
    "    {'countrycode': 'UGA', 'countryname': 'Uganda'}\n",
    "]\n",
    "\n",
    "# Loop through each parameter set and run the parametrized notebook\n",
    "for params in parameter_sets:\n",
    "    output_notebook = f'output_{params[\"countrycode\"]}.ipynb'\n",
    "    try:\n",
    "        pm.execute_notebook(\n",
    "            '1_distance-parametrized.ipynb',  # Input notebook\n",
    "            output_notebook,                  # Output notebook\n",
    "            parameters=params\n",
    "        )\n",
    "        # Define the destination path\n",
    "        base_path = os.getcwd()\n",
    "        destination_folder = os.path.join(base_path, params['countrycode'])\n",
    "        if not os.path.exists(destination_folder):\n",
    "            os.makedirs(destination_folder)\n",
    "        # Move the output notebook to the destination folder\n",
    "        shutil.move(output_notebook, os.path.join(destination_folder, output_notebook))\n",
    "    except Exception as e:\n",
    "        print(f\"Error encountered for {params['countrycode']}: {e}\")\n",
    "        continue\n",
    "\n",
    "\n",
    "# Execute additional notebooks\n",
    "additional_notebooks = [\n",
    "    '2_add-in-capital-state.ipynb',\n",
    "    '3_create-overview_figure4.ipynb',\n",
    "    '4_logistic_regression_figure5.ipynb'\n",
    "]\n",
    "\n",
    "for notebook in additional_notebooks:\n",
    "    output_notebook = f'output_{notebook}'\n",
    "    try:\n",
    "        pm.execute_notebook(\n",
    "            notebook,          # Input notebook\n",
    "            output_notebook    # Output notebook\n",
    "        )\n",
    "        # Define the destination path\n",
    "        base_path = os.getcwd()\n",
    "        destination_folder = os.path.join(base_path, 'additional_notebooks')\n",
    "        if not os.path.exists(destination_folder):\n",
    "            os.makedirs(destination_folder)\n",
    "        # Move the output notebook to the destination folder\n",
    "        shutil.move(output_notebook, os.path.join(destination_folder, output_notebook))\n",
    "    except Exception as e:\n",
    "        print(f\"Error encountered for {notebook}: {e}\")\n",
    "        continue\n",
    "\n",
    "print(\"All done.\")\n"
   ]
  }
 ],
 "metadata": {
  "kernelspec": {
   "display_name": "Python 3 (ipykernel)",
   "language": "python",
   "name": "python3"
  },
  "language_info": {
   "codemirror_mode": {
    "name": "ipython",
    "version": 3
   },
   "file_extension": ".py",
   "mimetype": "text/x-python",
   "name": "python",
   "nbconvert_exporter": "python",
   "pygments_lexer": "ipython3",
   "version": "3.9.18"
  }
 },
 "nbformat": 4,
 "nbformat_minor": 5
}
