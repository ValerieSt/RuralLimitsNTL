{
 "cells": [
  {
   "cell_type": "markdown",
   "id": "b24fc4dd-9fa0-4b02-990c-bca344ec8385",
   "metadata": {},
   "source": [
    "# Create overview of key stats for figure 4"
   ]
  },
  {
   "cell_type": "code",
   "execution_count": null,
   "id": "1e27264c-3dfe-449e-b6e9-e28022532fa7",
   "metadata": {},
   "outputs": [],
   "source": [
    "import pandas as pd\n",
    "import os\n",
    "\n",
    "# List of country tuples\n",
    "countries = [\n",
    "    ('AGO', 'Angola'),\n",
    "    ('BFA', 'Burkina Faso'),\n",
    "    ('BDI', 'Burundi'),\n",
    "    ('CMR', 'Cameroon'),\n",
    "    ('CAF', 'Central African Republic'),\n",
    "    ('TCD', 'Chad'),\n",
    "    ('COG', 'Congo'),\n",
    "    ('COD', 'Democratic Republic of the Congo'),\n",
    "    ('ERI', 'Eritrea'),\n",
    "    ('ETH', 'Ethiopia'),\n",
    "    ('KEN', 'Kenya'),\n",
    "    ('MLI', 'Mali'),\n",
    "    ('MOZ', 'Mozambique'),\n",
    "    ('NER', 'Niger'),\n",
    "    ('NGA', 'Nigeria'),\n",
    "    ('RWA', 'Rwanda'),\n",
    "    ('SDN', 'Sudan'),\n",
    "    ('SOM', 'Somalia'),\n",
    "    ('SSD', 'South Sudan'),\n",
    "    ('TZA', 'Tanzania'),\n",
    "    ('UGA', 'Uganda')\n",
    "]\n",
    "\n",
    "# Initialize the dataframe\n",
    "df_figure4 = pd.DataFrame(columns=['countryname', 'built-perc_mon', 'built-perc_any', 'built_median_any', 'small-perc_mon', 'small_perc_any', 'small_median_any'])\n",
    "\n",
    "# Iterate through each country tuple\n",
    "for countrycode, countryname in countries:\n",
    "    # Define the folder path\n",
    "    folder_path = os.path.join(countrycode)\n",
    "    \n",
    "    # Open 'overview_key_stats.csv' and extract the required values\n",
    "    overview_stats_path = os.path.join(folder_path, 'overview_key_stats.csv')\n",
    "    overview_df = pd.read_csv(overview_stats_path)\n",
    "    \n",
    "    built_perc_mon = overview_df[(overview_df['type'] == 'Built-up') & (overview_df['what'] == 'Proportion monitorable')]['value'].values[0]\n",
    "    built_perc_any = overview_df[(overview_df['type'] == 'Built-up') & (overview_df['what'] == 'Proportion NTL')]['value'].values[0]\n",
    "    built_median_any = overview_df[(overview_df['type'] == 'Built-up') & (overview_df['what'] == 'Median NTL value for any NTL')]['value'].values[0]\n",
    "    built_median_any = float(built_median_any) / 100\n",
    "    \n",
    "    small_perc_mon = overview_df[(overview_df['type'] == 'Small settlements') & (overview_df['what'] == 'Proportion monitorable')]['value'].values[0]\n",
    "    small_perc_any = overview_df[(overview_df['type'] == 'Small settlements') & (overview_df['what'] == 'Proportion NTL')]['value'].values[0]\n",
    "    small_median_any = overview_df[(overview_df['type'] == 'Small settlements') & (overview_df['what'] == 'Median NTL value for any NTL')]['value'].values[0]\n",
    "    small_median_any = float(small_median_any) / 100\n",
    "    \n",
    "    \n",
    "    # Create a new DataFrame with the new row\n",
    "\n",
    "    new_row_df_figure4 = pd.DataFrame({\n",
    "        'countryname': [countryname],\n",
    "        'built-perc_mon': [built_perc_mon],\n",
    "        'built-perc_any': [built_perc_any],\n",
    "        'built_median_any': [built_median_any],\n",
    "        'small-perc_mon': [small_perc_mon],\n",
    "        'small_perc_any': [small_perc_any],\n",
    "        'small_median_any': [small_median_any]\n",
    "    })\n",
    "    \n",
    "    # Concatenate the new row DataFrame with the existing DataFrame\n",
    "    df_figure4 = pd.concat([df_figure4, new_row_df_figure4], ignore_index=True)\n",
    "\n",
    "# Save the dataframe\n",
    "\n",
    "df_figure4.to_csv('stats_reporting_figure4.csv', index=False)\n",
    "print(\"Overview created. Stats for figure 4 are in files.\")\n"
   ]
  },
  {
   "cell_type": "raw",
   "id": "700c6228-aa52-4032-8f63-63a6c9a0c37a",
   "metadata": {},
   "source": []
  }
 ],
 "metadata": {
  "kernelspec": {
   "display_name": "Python 3 (ipykernel)",
   "language": "python",
   "name": "python3"
  },
  "language_info": {
   "codemirror_mode": {
    "name": "ipython",
    "version": 3
   },
   "file_extension": ".py",
   "mimetype": "text/x-python",
   "name": "python",
   "nbconvert_exporter": "python",
   "pygments_lexer": "ipython3",
   "version": "3.9.18"
  }
 },
 "nbformat": 4,
 "nbformat_minor": 5
}
