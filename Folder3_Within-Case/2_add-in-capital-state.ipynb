{
 "cells": [
  {
   "cell_type": "markdown",
   "id": "43cc01a8-d35f-4c37-ab85-d8586e980e69",
   "metadata": {},
   "source": [
    "# Add 'is in capital'"
   ]
  },
  {
   "cell_type": "code",
   "execution_count": null,
   "id": "b5e4a09c-5191-4d07-81f7-8a61bee3bd41",
   "metadata": {},
   "outputs": [],
   "source": [
    "import os\n",
    "import pandas as pd\n",
    "# List of country codes\n",
    "#country_codes = ['AGO', 'BDI', 'BFA', 'CMR', 'CAF', 'TCD', 'COG', 'COD', 'ERI', 'ETH', 'KEN', 'MLI', 'MOZ', 'NER', 'NGA', 'RWA', 'SDN', 'SOM', 'SSD', 'TZA', 'UGA']\n",
    "country_codes = ['COD']\n",
    "# Iterate through each country code\n",
    "for country_code in country_codes:\n",
    "    # Define the subfolder path\n",
    "    subfolder_path = os.path.join(os.getcwd(), country_code)\n",
    "    \n",
    "    # Define the file paths\n",
    "    state_capital_file = os.path.join(subfolder_path, f'state_capital_list_{country_code}_points.csv')\n",
    "    grid_file = os.path.join(subfolder_path, f'{country_code}_grid3_with_ntl_percentage.csv')\n",
    "    \n",
    "    # Read the state capital file\n",
    "    state_capital_df = pd.read_csv(state_capital_file)\n",
    "    \n",
    "    # Find the state with the capital\n",
    "    state_with_capital = state_capital_df[state_capital_df['is_capital_state'] == 1]['state'].values[0]\n",
    "    \n",
    "    # Read the grid file\n",
    "    grid_df = pd.read_csv(grid_file)\n",
    "    \n",
    "    # Create the 'in_state_capital' column\n",
    "    grid_df['in_state_capital'] = grid_df['adm1_name'].apply(lambda x: 1 if x == state_with_capital else 0)\n",
    "    \n",
    "    # Print the total number of rows\n",
    "    total_rows = len(grid_df)\n",
    "    print(f\"Total number of rows for {country_code}: {total_rows}\")\n",
    "    \n",
    "    # Print the portion of rows where 'in_state_capital' is 1\n",
    "    portion_in_state_capital = grid_df['in_state_capital'].mean()\n",
    "    print(f\"Portion of rows where 'in_state_capital' is 1 for {country_code}: {portion_in_state_capital:.2%}\")\n",
    "    \n",
    "    # Define the new file path\n",
    "    newfile = os.path.join(subfolder_path, f'{country_code}_grid3_with_ntl_percentage_complete.csv')\n",
    "    # Save the updated grid file (optional)\n",
    "    grid_df.to_csv(newfile, index=False)\n",
    "    \n",
    "    # Delete the original grid file\n",
    "    os.remove(grid_file)\n",
    "\n",
    "print(\"Column is_in_capital created\")"
   ]
  }
 ],
 "metadata": {
  "kernelspec": {
   "display_name": "Python 3 (ipykernel)",
   "language": "python",
   "name": "python3"
  },
  "language_info": {
   "codemirror_mode": {
    "name": "ipython",
    "version": 3
   },
   "file_extension": ".py",
   "mimetype": "text/x-python",
   "name": "python",
   "nbconvert_exporter": "python",
   "pygments_lexer": "ipython3",
   "version": "3.9.18"
  }
 },
 "nbformat": 4,
 "nbformat_minor": 5
}
