{
 "cells": [
  {
   "cell_type": "code",
   "execution_count": 1,
   "id": "c79a9fe1-ec0d-43de-9dc8-490071ccde41",
   "metadata": {
    "papermill": {
     "duration": 0.060482,
     "end_time": "2024-06-28T13:27:15.483647",
     "exception": false,
     "start_time": "2024-06-28T13:27:15.423165",
     "status": "completed"
    },
    "tags": [
     "parameters"
    ]
   },
   "outputs": [
    {
     "name": "stdout",
     "output_type": "stream",
     "text": [
      "Parameters set\n"
     ]
    }
   ],
   "source": [
    "# Setting parameters, replace with defaults when using a master notebook\n",
    "\n",
    "countrycode = 'default'\n",
    "countryname = 'default'\n",
    "\n",
    "print(\"Parameters set\")"
   ]
  },
  {
   "cell_type": "code",
   "execution_count": 2,
   "id": "f5ea8ffc",
   "metadata": {
    "papermill": {
     "duration": 0.021324,
     "end_time": "2024-06-28T13:27:15.517063",
     "exception": false,
     "start_time": "2024-06-28T13:27:15.495739",
     "status": "completed"
    },
    "tags": [
     "injected-parameters"
    ]
   },
   "outputs": [],
   "source": [
    "# Parameters\n",
    "countrycode = \"MOZ\"\n",
    "countryname = \"Mozambique\"\n"
   ]
  },
  {
   "cell_type": "markdown",
   "id": "686584ea",
   "metadata": {
    "papermill": {
     "duration": 0.008132,
     "end_time": "2024-06-28T13:27:15.531776",
     "exception": false,
     "start_time": "2024-06-28T13:27:15.523644",
     "status": "completed"
    },
    "tags": []
   },
   "source": [
    "# Import Libraries"
   ]
  },
  {
   "cell_type": "code",
   "execution_count": 3,
   "id": "aa0e1cdf",
   "metadata": {
    "papermill": {
     "duration": 4.03608,
     "end_time": "2024-06-28T13:27:19.574422",
     "exception": false,
     "start_time": "2024-06-28T13:27:15.538342",
     "status": "completed"
    },
    "tags": []
   },
   "outputs": [
    {
     "name": "stdout",
     "output_type": "stream",
     "text": [
      "All done.\n"
     ]
    }
   ],
   "source": [
    "import pandas as pd\n",
    "import geopandas as gpd\n",
    "import rasterio\n",
    "from rasterio.transform import from_origin\n",
    "from rasterstats import zonal_stats\n",
    "import numpy as np\n",
    "import os\n",
    "import time\n",
    "from rasterio.features import geometry_mask\n",
    "from rasterio.mask import mask\n",
    "from rasterio.transform import xy\n",
    "from rasterio.transform import Affine\n",
    "from osgeo import gdal\n",
    "gdal.UseExceptions()\n",
    "from exactextract import exact_extract\n",
    "import matplotlib.pyplot as plt\n",
    "from shapely.geometry import shape\n",
    "from shapely.ops import unary_union\n",
    "import statsmodels.api as sm\n",
    "import pyreadr\n",
    "\n",
    "print(\"All done.\")"
   ]
  },
  {
   "cell_type": "markdown",
   "id": "ee48cb26",
   "metadata": {
    "papermill": {
     "duration": 0.007076,
     "end_time": "2024-06-28T13:27:19.590060",
     "exception": false,
     "start_time": "2024-06-28T13:27:19.582984",
     "status": "completed"
    },
    "tags": []
   },
   "source": [
    "# Load and Prepare Data"
   ]
  },
  {
   "cell_type": "code",
   "execution_count": 4,
   "id": "bca5a914",
   "metadata": {
    "papermill": {
     "duration": 2.971749,
     "end_time": "2024-06-28T13:27:22.569629",
     "exception": false,
     "start_time": "2024-06-28T13:27:19.597880",
     "status": "completed"
    },
    "tags": []
   },
   "outputs": [
    {
     "name": "stdout",
     "output_type": "stream",
     "text": [
      "Data loaded\n",
      "Data preview before 'haslight' column creation:\n",
      "            x          y  ntl  pop\n",
      "0   40.435417 -10.472917  0.0  0.0\n",
      "1   40.439583 -10.472917  0.0  0.0\n",
      "2   40.435417 -10.477083  0.0  0.0\n",
      "3   40.439583 -10.477083  0.0  0.0\n",
      "4   40.443750 -10.477083  0.0  0.0\n",
      "..        ...        ...  ...  ...\n",
      "95  40.460417 -10.497917  0.0  0.0\n",
      "96  40.464583 -10.497917  0.0  0.0\n",
      "97  40.468750 -10.497917  0.0  0.0\n",
      "98  40.472917 -10.497917  0.0  0.0\n",
      "99  40.477083 -10.497917  0.0  0.0\n",
      "\n",
      "[100 rows x 4 columns]\n",
      "Data preview after 'haslight' column creation:\n",
      "            x          y  ntl  pop  haslight\n",
      "0   40.435417 -10.472917  0.0  0.0         0\n",
      "1   40.439583 -10.472917  0.0  0.0         0\n",
      "2   40.435417 -10.477083  0.0  0.0         0\n",
      "3   40.439583 -10.477083  0.0  0.0         0\n",
      "4   40.443750 -10.477083  0.0  0.0         0\n",
      "..        ...        ...  ...  ...       ...\n",
      "95  40.460417 -10.497917  0.0  0.0         0\n",
      "96  40.464583 -10.497917  0.0  0.0         0\n",
      "97  40.468750 -10.497917  0.0  0.0         0\n",
      "98  40.472917 -10.497917  0.0  0.0         0\n",
      "99  40.477083 -10.497917  0.0  0.0         0\n",
      "\n",
      "[100 rows x 5 columns]\n",
      "Columns 'ntl' and 'pop' dropped\n"
     ]
    }
   ],
   "source": [
    "start_time = time.time()\n",
    "\n",
    "# Setting the working directory to the country's subfolder\n",
    "#base_path = os.getcwd()\n",
    "#os.chdir(os.path.join(base_path, countrycode))\n",
    "\n",
    "# Load the rds data\n",
    "rds_file = countrycode + '_ntl_pop.rds'\n",
    "results = pyreadr.read_r(rds_file)\n",
    "# Extract the data frame from the result\n",
    "data = results[None]  # Extracts the first (and usually only) dataframe from the result\n",
    "\n",
    "\n",
    "print(\"Data loaded\")\n",
    "\n",
    "# Debugging: Check the first few rows of the data\n",
    "print(\"Data preview before 'haslight' column creation:\")\n",
    "print(data.head(100))\n",
    "\n",
    "# Create a binary 'haslight' column based on 'ntl' values\n",
    "data['haslight'] = (data['ntl'] > 0).astype(int)\n",
    "\n",
    "# Debugging: Check the first few rows after 'haslight' column creation\n",
    "print(\"Data preview after 'haslight' column creation:\")\n",
    "print(data.head(100))\n",
    "\n",
    "data.drop(columns=['ntl', 'pop'], inplace=True)\n",
    "print(\"Columns 'ntl' and 'pop' dropped\")\n"
   ]
  },
  {
   "cell_type": "markdown",
   "id": "f1ae648d",
   "metadata": {
    "papermill": {
     "duration": 0.01283,
     "end_time": "2024-06-28T13:27:22.592222",
     "exception": false,
     "start_time": "2024-06-28T13:27:22.579392",
     "status": "completed"
    },
    "tags": []
   },
   "source": [
    "# Convert DataFrame to GeoDataFrame\n",
    "\n",
    "Fast"
   ]
  },
  {
   "cell_type": "code",
   "execution_count": 5,
   "id": "c7de8e61",
   "metadata": {
    "papermill": {
     "duration": 3.58185,
     "end_time": "2024-06-28T13:27:26.181657",
     "exception": false,
     "start_time": "2024-06-28T13:27:22.599807",
     "status": "completed"
    },
    "tags": []
   },
   "outputs": [
    {
     "name": "stdout",
     "output_type": "stream",
     "text": [
      "Converted to GeoDataFrame\n",
      "Time to execute: 0.04\n"
     ]
    }
   ],
   "source": [
    "start_time = time.time()\n",
    "# Convert the DataFrame to a GeoDataFrame\n",
    "gdf = gpd.GeoDataFrame(data, geometry=gpd.points_from_xy(data['x'], data['y']))\n",
    "print(\"Converted to GeoDataFrame\")\n",
    "end_time = time.time()\n",
    "print(f\"Time to execute: {((time.time() - start_time)/60):.2f}\")"
   ]
  },
  {
   "cell_type": "code",
   "execution_count": 6,
   "id": "29de3016-a92b-4bc5-aebf-a90aa3ccec3f",
   "metadata": {
    "papermill": {
     "duration": 163.714435,
     "end_time": "2024-06-28T13:30:09.904461",
     "exception": false,
     "start_time": "2024-06-28T13:27:26.190026",
     "status": "completed"
    },
    "tags": []
   },
   "outputs": [
    {
     "data": {
      "text/plain": [
       "<Axes: >"
      ]
     },
     "execution_count": 6,
     "metadata": {},
     "output_type": "execute_result"
    },
    {
     "data": {
      "image/png": "[encoded data removed]",
      "text/plain": [
       "<Figure size 640x480 with 1 Axes>"
      ]
     },
     "metadata": {},
     "output_type": "display_data"
    }
   ],
   "source": [
    "gdf.plot()"
   ]
  },
  {
   "cell_type": "code",
   "execution_count": 7,
   "id": "7e01c113-1d70-46a0-b20b-45bd9528bf3f",
   "metadata": {
    "papermill": {
     "duration": 9.665327,
     "end_time": "2024-06-28T13:30:19.578213",
     "exception": false,
     "start_time": "2024-06-28T13:30:09.912886",
     "status": "completed"
    },
    "tags": []
   },
   "outputs": [
    {
     "data": {
      "text/plain": [
       "<matplotlib.collections.QuadMesh at 0x336d67d90>"
      ]
     },
     "execution_count": 7,
     "metadata": {},
     "output_type": "execute_result"
    },
    {
     "data": {
      "image/png": "[encoded data removed]",
      "text/plain": [
       "<Figure size 640x480 with 2 Axes>"
      ]
     },
     "metadata": {},
     "output_type": "display_data"
    }
   ],
   "source": [
    "ds = data.set_index(['y', 'x']).to_xarray()\n",
    "ds.haslight.plot()"
   ]
  },
  {
   "cell_type": "code",
   "execution_count": 8,
   "id": "f85cf11f-584a-4c23-8eb6-a7fa6192a91c",
   "metadata": {
    "papermill": {
     "duration": 0.290805,
     "end_time": "2024-06-28T13:30:19.878750",
     "exception": false,
     "start_time": "2024-06-28T13:30:19.587945",
     "status": "completed"
    },
    "tags": []
   },
   "outputs": [
    {
     "name": "stdout",
     "output_type": "stream",
     "text": [
      "Time to execute: 0.00\n"
     ]
    }
   ],
   "source": [
    "# transform data array and write it to a GeoTIFF \n",
    "\n",
    "start_time = time.time()\n",
    "data_array = ds.haslight.values[::-1]\n",
    "xmin, ymin, xmax, ymax = gdf.total_bounds\n",
    "pixel_size = 15 / 3600 \n",
    "transform = Affine.translation(xmin - pixel_size / 2, ymax + pixel_size / 2) * Affine.scale(pixel_size, -pixel_size)#from_origin(xmin, ymax, pixel_size, pixel_size)\n",
    "with rasterio.open(\n",
    "    'haslight.tif',\n",
    "    'w', \n",
    "    driver='GTiff',\n",
    "    height=data_array.shape[0],\n",
    "    width=data_array.shape[1],\n",
    "    count=1,\n",
    "    dtype=data_array.dtype,\n",
    "    crs='EPSG:4326',\n",
    "    transform=transform,\n",
    ") as tiff:\n",
    "    tiff.write(data_array, 1)\n",
    "print(f\"Time to execute: {((time.time() - start_time)/60):.2f}\")"
   ]
  },
  {
   "cell_type": "markdown",
   "id": "b9a6f934",
   "metadata": {
    "papermill": {
     "duration": 0.010677,
     "end_time": "2024-06-28T13:30:19.900224",
     "exception": false,
     "start_time": "2024-06-28T13:30:19.889547",
     "status": "completed"
    },
    "tags": []
   },
   "source": [
    "# Load Shapefile\n",
    "\n",
    "This takes some time, depending on file size"
   ]
  },
  {
   "cell_type": "code",
   "execution_count": 10,
   "id": "af4b52f4",
   "metadata": {
    "papermill": {
     "duration": 1507.832357,
     "end_time": "2024-06-28T13:55:27.743648",
     "exception": false,
     "start_time": "2024-06-28T13:30:19.911291",
     "status": "completed"
    },
    "tags": []
   },
   "outputs": [
    {
     "name": "stdout",
     "output_type": "stream",
     "text": [
      "Loading\n",
      "grid3_MOZ/GRID3_Mozambique_Settlement_Extents_Version_01_01.shp\n",
      "...\n",
      "Numbers for each settlement type before geometries applied:\n",
      "type\n",
      "Hamlet                   997780\n",
      "Small Settlement Area     25630\n",
      "Built-up Area               324\n",
      "Name: count, dtype: int64\n",
      "No OBJECTID column found in the shapefile.\n",
      "Invalid geometries saved to grid3_MOZ/invalid_geometries.shp\n",
      "Hamlet: 179 geometries removed (0.02%)\n",
      "Small Settlement Area: 1682 geometries removed (6.56%)\n",
      "Built-up Area: 48 geometries removed (14.81%)\n",
      "Invalid and empty geometries removed\n",
      "Numbers for each settlement type AFTER geometries applied:\n",
      "type\n",
      "Hamlet                   997601\n",
      "Small Settlement Area     23948\n",
      "Built-up Area               276\n",
      "Name: count, dtype: int64\n",
      "Time to execute: 19.54 minutes\n"
     ]
    }
   ],
   "source": [
    "start_time = time.time()\n",
    "\n",
    "# Go to the grid3 subfolder\n",
    "grid3_folder = 'grid3_' + countrycode\n",
    "\n",
    "# Find the shapefile in the directory\n",
    "shapefile = None\n",
    "\n",
    "#for countrynames with several words\n",
    "first_word_countryname = countryname.split()[0]\n",
    "\n",
    "# shapefile should contain the ending .shp, and the countrycode or countryname (at least the first word), as grid3 data tends to do\n",
    "for file in os.listdir(grid3_folder):\n",
    "    if file.endswith('.shp') and (countrycode in file or first_word_countryname in file):\n",
    "        shapefile = file\n",
    "        break\n",
    "\n",
    "# Check if the shapefile was found and if it contains the countrycode\n",
    "if shapefile is None:\n",
    "    print('No shapefile found in the directory ending with .shp')\n",
    "\n",
    "# Print the shapefile path\n",
    "shapefile_path = os.path.join(grid3_folder, shapefile)\n",
    "\n",
    "print(\"Loading\")\n",
    "print(shapefile_path)\n",
    "print(\"...\")\n",
    "\n",
    "settlements = gpd.read_file(shapefile_path)\n",
    "\n",
    "# Ensure spelling is Built-up and not Built-Up (e.g. Kenya data)\n",
    "settlements['type'] = settlements['type'].replace('Built-Up Area', 'Built-up Area')\n",
    "\n",
    "#checking total of settlements per type\n",
    "settlement_type_counts = settlements['type'].value_counts()\n",
    "print(\"Numbers for each settlement type before geometries applied:\")\n",
    "print(settlement_type_counts)\n",
    "\n",
    "# Count the number of geometries for each settlement type before removal\n",
    "type_counts_before = settlements['type'].value_counts()\n",
    "\n",
    "# Ensure all geometries are valid\n",
    "settlements['geometry'] = settlements['geometry'].astype(object).apply(lambda geom: geom if geom.is_valid else geom.buffer(0))\n",
    "\n",
    "# Identify invalid geometries\n",
    "invalid_geometries = settlements[settlements['geometry'].is_empty]\n",
    "\n",
    "# Print OBJECTIDs of rows with invalid geometries\n",
    "if 'OBJECTID' in invalid_geometries.columns:\n",
    "    print(\"OBJECTIDs of rows with invalid geometries:\")\n",
    "    print(invalid_geometries['OBJECTID'].tolist())\n",
    "else:\n",
    "    print(\"No OBJECTID column found in the shapefile.\")\n",
    "\n",
    "# Save invalid geometries to a separate file\n",
    "invalid_geometries_path = os.path.join(grid3_folder, 'invalid_geometries.shp')\n",
    "invalid_geometries.to_file(invalid_geometries_path)\n",
    "print(f\"Invalid geometries saved to {invalid_geometries_path}\")\n",
    "\n",
    "\n",
    "# Remove empty geometries\n",
    "settlements = settlements[~settlements['geometry'].is_empty]\n",
    "\n",
    "# Count the number of geometries for each settlement type after removal\n",
    "type_counts_after = settlements['type'].value_counts()\n",
    "\n",
    "# Calculate the number and proportion of geometries removed for each settlement type\n",
    "for settlement_type in type_counts_before.index:\n",
    "    count_before = type_counts_before[settlement_type]\n",
    "    count_after = type_counts_after.get(settlement_type, 0)\n",
    "    count_removed = count_before - count_after\n",
    "    proportion_removed = count_removed / count_before\n",
    "    print(f\"{settlement_type}: {count_removed} geometries removed ({proportion_removed:.2%})\")\n",
    "print(\"Invalid and empty geometries removed\")\n",
    "print(\"Numbers for each settlement type AFTER geometries applied:\")\n",
    "settlement_type_counts = settlements['type'].value_counts()\n",
    "print(settlement_type_counts)\n",
    "\n",
    "print(f\"Time to execute: {((time.time() - start_time)/60):.2f} minutes\")\n"
   ]
  },
  {
   "cell_type": "code",
   "execution_count": 16,
   "id": "cdfe2ddf-74ad-4fca-98b2-8356e0df50d0",
   "metadata": {},
   "outputs": [
    {
     "name": "stdout",
     "output_type": "stream",
     "text": [
      "Index(['country', 'iso', 'mgrs_code', 'type', 'population', 'pop_un_adj',\n",
      "       'pop_wp1_2', 'f0', 'f1', 'f10', 'f15', 'f15_49', 'f20', 'f25', 'f30',\n",
      "       'f35', 'f40', 'f45', 'f5', 'f50', 'f55', 'f60', 'f65', 'f70', 'f75',\n",
      "       'f80', 'm0', 'm1', 'm10', 'm15', 'm20', 'm25', 'm30', 'm35', 'm40',\n",
      "       'm45', 'm5', 'm50', 'm55', 'm60', 'm65', 'm70', 'm75', 'm80', 'under1',\n",
      "       'under15', 'under5', 'adm0_pcode', 'adm1_name', 'adm1_pcode',\n",
      "       'adm2_name', 'adm2_pcode', 'settl_pcod', 'geometry'],\n",
      "      dtype='object')\n"
     ]
    }
   ],
   "source": []
  },
  {
   "cell_type": "markdown",
   "id": "57d289d9",
   "metadata": {
    "papermill": {
     "duration": 0.021561,
     "end_time": "2024-06-28T13:55:27.790838",
     "exception": false,
     "start_time": "2024-06-28T13:55:27.769277",
     "status": "completed"
    },
    "tags": []
   },
   "source": [
    "# Calculate zonal statistics\n",
    "\n",
    "In this step, simply check if there is NTL (0/1), then for each settlement calculate what percentage of the polygon has NTL. \n",
    "\n",
    "This cell takes some time, with Sudan, around 10min."
   ]
  },
  {
   "cell_type": "code",
   "execution_count": 24,
   "id": "a2c972ea-abec-4d56-ba29-5a2cd94e48f5",
   "metadata": {},
   "outputs": [
    {
     "name": "stdout",
     "output_type": "stream",
     "text": [
      "Unique values in the original raster: [ 0.  1. nan]\n"
     ]
    },
    {
     "data": {
      "image/png": "[encoded data removed]",
      "text/plain": [
       "<Figure size 640x480 with 1 Axes>"
      ]
     },
     "metadata": {},
     "output_type": "display_data"
    },
    {
     "data": {
      "image/png": "[encoded data removed]",
      "text/plain": [
       "<Figure size 640x480 with 1 Axes>"
      ]
     },
     "metadata": {},
     "output_type": "display_data"
    },
    {
     "name": "stdout",
     "output_type": "stream",
     "text": [
      "Weighted percentages added to GeoDataFrame\n",
      "Number of NaN values in 'NTL_weighted_percentage': 0\n",
      "Execution time: 0.24321446816126505 minutes\n"
     ]
    }
   ],
   "source": [
    "import rasterio\n",
    "import numpy as np\n",
    "import geopandas as gpd\n",
    "from exactextract import exact_extract\n",
    "import time\n",
    "import matplotlib.pyplot as plt\n",
    "from shapely.geometry import box\n",
    "\n",
    "# Start time for execution time calculation\n",
    "start_time = time.time()\n",
    "\n",
    "# Specify the path to your raster data\n",
    "raster_path = 'haslight.tif'\n",
    "\n",
    "# Open the raster and convert it to binary (has light or has no light)\n",
    "with rasterio.open(raster_path) as src:\n",
    "    raster_data = src.read(1)  # Read the first band\n",
    "    unique_values = np.unique(raster_data)\n",
    "    print(\"Unique values in the original raster:\", unique_values)\n",
    "    \n",
    "    threshold = 0  # Adjust this threshold as needed\n",
    "    binary_raster_data = (raster_data > threshold).astype(int)  # Convert to binary\n",
    "\n",
    "    # Write the binary raster to a new file (optional, can also be done in-memory)\n",
    "    binary_raster_path = 'binary_haslight.tif'\n",
    "    profile = src.profile\n",
    "    with rasterio.open(binary_raster_path, 'w', **profile) as dst:\n",
    "        dst.write(binary_raster_data, 1)\n",
    "\n",
    "# Visualize the binary raster to ensure it looks correct\n",
    "plt.imshow(binary_raster_data, cmap='gray')\n",
    "plt.title(\"Binary Raster Data\")\n",
    "plt.show()\n",
    "\n",
    "# Perform the exact extraction using the binary raster\n",
    "settlements_updated = settlements.copy()\n",
    "# Example of standardizing columns\n",
    "required_columns = ['geometry', 'mgrs_code', 'country', 'iso', 'type', 'population', 'pop_un_adj', 'adm0_pcode', 'adm1_name', 'adm1_pcode', 'adm2_name', 'adm2_pcode', 'settl_pcod']\n",
    "settlements_updated = settlements_updated[required_columns]\n",
    "\n",
    "# Check and align CRS\n",
    "with rasterio.open(raster_path) as src:\n",
    "    raster_crs = src.crs\n",
    "\n",
    "if settlements_updated.crs != raster_crs:\n",
    "    settlements_updated = settlements_updated.to_crs(raster_crs)\n",
    "    print(\"CRS adjusted\")\n",
    "\n",
    "# Ensure geometries are valid and not empty\n",
    "settlements_updated = settlements_updated[settlements_updated.is_valid]\n",
    "settlements_updated = settlements_updated[~settlements_updated.is_empty]\n",
    "\n",
    "# Check if geometries overlap with the raster bounds\n",
    "with rasterio.open(binary_raster_path) as src:\n",
    "    raster_bounds = src.bounds\n",
    "    raster_polygon = box(*raster_bounds)\n",
    "\n",
    "# Visualize settlement geometries on top of the binary raster\n",
    "fig, ax = plt.subplots()\n",
    "with rasterio.open(binary_raster_path) as src:\n",
    "    binary_raster_data = src.read(1)\n",
    "    plt.imshow(binary_raster_data, cmap='gray', extent=src.bounds)\n",
    "settlements_updated.plot(ax=ax, facecolor='none', edgecolor='red')\n",
    "plt.title(\"Settlement Geometries on Binary Raster\")\n",
    "plt.show()\n",
    "\n",
    "# Perform exact extraction\n",
    "results = exact_extract(binary_raster_path, settlements_updated, [\"mean\"])\n",
    "\n",
    "# Add the weighted mean light coverage to the settlements GeoDataFrame\n",
    "settlements_updated['NTL_weighted_percentage'] = [\n",
    "    feature['properties'].get('mean', 0) * 100 if feature['properties'].get('mean') is not None else 0\n",
    "    for feature in results\n",
    "]\n",
    "print(\"Weighted percentages added to GeoDataFrame\")\n",
    "\n",
    "# Check for NaN values in the GeoDataFrame\n",
    "print(\"Number of NaN values in 'NTL_weighted_percentage':\", settlements_updated['NTL_weighted_percentage'].isna().sum())\n",
    "\n",
    "# Calculate the execution time\n",
    "end_time = time.time()\n",
    "execution_time = end_time - start_time\n",
    "print(f\"Execution time: {execution_time/60} minutes\")\n"
   ]
  },
  {
   "cell_type": "code",
   "execution_count": 25,
   "id": "9684da9f-76f1-466a-8513-fda0efb2c7c2",
   "metadata": {},
   "outputs": [
    {
     "name": "stdout",
     "output_type": "stream",
     "text": [
      "                                            geometry     mgrs_code  \\\n",
      "0  POLYGON ((32.03706 -25.99445, 32.03677 -25.995...  36JVS0225_02   \n",
      "1  POLYGON ((32.16771 -26.42898, 32.16710 -26.428...  36JVR1676_01   \n",
      "2  POLYGON ((32.23835 -26.42753, 32.23793 -26.427...  36JVR2475_02   \n",
      "3  POLYGON ((32.16902 -26.40843, 32.16965 -26.408...  36JVR1779_01   \n",
      "4  POLYGON ((32.09306 -26.39526, 32.09281 -26.395...  36JVR0979_01   \n",
      "\n",
      "      country  iso                   type    population    pop_un_adj  \\\n",
      "0  Mozambique  MOZ          Built-up Area  15631.918229  15753.316431   \n",
      "1  Mozambique  MOZ  Small Settlement Area    273.694007    275.819527   \n",
      "2  Mozambique  MOZ  Small Settlement Area    541.641456    545.847873   \n",
      "3  Mozambique  MOZ  Small Settlement Area     73.482109     74.052773   \n",
      "4  Mozambique  MOZ  Small Settlement Area    127.126729    128.114000   \n",
      "\n",
      "  adm0_pcode adm1_name adm1_pcode adm2_name adm2_pcode    settl_pcod  \\\n",
      "0         MZ    Maputo       MZ05  Namaacha     MZ0508  MZ0508000001   \n",
      "1         MZ    Maputo       MZ05  Namaacha     MZ0508  MZ0508000002   \n",
      "2         MZ    Maputo       MZ05  Namaacha     MZ0508  MZ0508000003   \n",
      "3         MZ    Maputo       MZ05  Namaacha     MZ0508  MZ0508000004   \n",
      "4         MZ    Maputo       MZ05  Namaacha     MZ0508  MZ0508000005   \n",
      "\n",
      "   NTL_weighted_percentage  \n",
      "0                 89.36005  \n",
      "1                  0.00000  \n",
      "2                  0.00000  \n",
      "3                  0.00000  \n",
      "4                  0.00000  \n"
     ]
    }
   ],
   "source": [
    "print(settlements_updated.head())"
   ]
  },
  {
   "cell_type": "markdown",
   "id": "bbdf352a",
   "metadata": {
    "papermill": {
     "duration": 0.009586,
     "end_time": "2024-06-28T14:07:01.769135",
     "exception": false,
     "start_time": "2024-06-28T14:07:01.759549",
     "status": "completed"
    },
    "tags": []
   },
   "source": [
    "# Save Results\n"
   ]
  },
  {
   "cell_type": "code",
   "execution_count": 12,
   "id": "9be29291-bef7-4d0b-876e-2627b5fab348",
   "metadata": {
    "papermill": {
     "duration": 71.216152,
     "end_time": "2024-06-28T14:08:12.991304",
     "exception": false,
     "start_time": "2024-06-28T14:07:01.775152",
     "status": "completed"
    },
    "tags": []
   },
   "outputs": [
    {
     "name": "stdout",
     "output_type": "stream",
     "text": [
      "CSV saved, all done.\n",
      "Time to execute: 0.91 minutes\n"
     ]
    }
   ],
   "source": [
    "start_time = time.time()\n",
    "\n",
    "csv_name = countrycode + '_grid3_with_ntl_percentage.csv'\n",
    "settlements_updated.drop(columns=['geometry']).to_csv(csv_name, index=False)\n",
    "print(\"CSV saved, all done.\")\n",
    "\n",
    "print(f\"Time to execute: {((time.time() - start_time)/60):.2f} minutes\")\n"
   ]
  },
  {
   "cell_type": "markdown",
   "id": "fa0423a4",
   "metadata": {
    "papermill": {
     "duration": 0.007047,
     "end_time": "2024-06-28T14:08:13.005388",
     "exception": false,
     "start_time": "2024-06-28T14:08:12.998341",
     "status": "completed"
    },
    "tags": []
   },
   "source": [
    "# Calculate key stats"
   ]
  },
  {
   "cell_type": "code",
   "execution_count": null,
   "id": "af18db85",
   "metadata": {
    "papermill": {
     "duration": 10.085584,
     "end_time": "2024-06-28T14:08:23.097366",
     "exception": false,
     "start_time": "2024-06-28T14:08:13.011782",
     "status": "completed"
    },
    "tags": []
   },
   "outputs": [],
   "source": [
    "# Load the data from the CSV file\n",
    "df = pd.read_csv(csv_name)\n",
    "\n",
    "print(f\"\\033[1mKey stats {countryname}n\\033[0m\")\n",
    "\n",
    "# Calculate 'something_wrong' (should be 0)\n",
    "#something_wrong = (df['NTL_weighted_percentage'] > 100).sum()\n",
    "#print(f\"Number of rows where there is something wrong with 'NTL_weighted_percentage': {something_wrong}\")\n",
    "something_wrong = (df['NTL_weighted_percentage'] > 100).sum()\n",
    "print(f\"Something wrong with {something_wrong} entries\")\n",
    "      \n",
    "print(\" \")\n",
    "# Calculate 'settl_ntl_perc'\n",
    "print(\"\\033[1mOverview all settlements\\033[0m\")\n",
    "settl_ntl_perc = (df['NTL_weighted_percentage'] > 0).mean()\n",
    "print(f\"Proportion nighttime light: {settl_ntl_perc:.2%}\")\n",
    "settl_monit_perc = (df['NTL_weighted_percentage'] > 50).mean()\n",
    "print(f\"Proportion monitorable: {settl_monit_perc:.2%}\")\n",
    "anyntl = df[df['NTL_weighted_percentage'] > 0]\n",
    "all_median_any = anyntl['NTL_weighted_percentage'].median()\n",
    "\n",
    "print(\" \")\n",
    "print(\"\\033[1mOverview built-up areas\\033[0m\")\n",
    "# Calculate 'built_up_perc'\n",
    "df_built_up = df[df['type'] == 'Built-up Area']\n",
    "#Get the total number of built-up areas; shape gives tuple of dimensions\n",
    "print(f\"Total number of built-up areas: {df_built_up.shape[0]}\")\n",
    "built_ntl_perc = (df_built_up['NTL_weighted_percentage'] > 0).mean()\n",
    "print(f\"Proportion nighttime light > 0: {built_ntl_perc:.2%}\")\n",
    "\n",
    "#median ntl coverage of all the settlements that have at least some NTL\n",
    "anyntl = df_built_up[df_built_up['NTL_weighted_percentage'] > 0]\n",
    "built_median_any = anyntl['NTL_weighted_percentage'].median()\n",
    "print(f\"Median NTL for settlements with any NTL: {built_median_any}\")\n",
    "built_monit_perc = (df_built_up['NTL_weighted_percentage'] > 50).mean()\n",
    "print(f\"Proportion monitorable: {built_monit_perc:.2%}\")\n",
    "\n",
    "\n",
    "print(\" \")\n",
    "print(\"\\033[1mOverview small settlements\\033[0m\")\n",
    "# Calculate 'small_settl_perc'\n",
    "df_small_set = df[df['type'] == 'Small Settlement Area']\n",
    "print(f\"Total number of small settlement areas: {df_small_set.shape[0]}\")\n",
    "smallset_ntl_perc = (df_small_set['NTL_weighted_percentage'] > 0).mean()\n",
    "print(f\"Proportion nighttime light: {smallset_ntl_perc:.2%}\")\n",
    "#median ntl coverage of all the settlements that have at least some NTL\n",
    "anyntl = df_small_set[df_small_set['NTL_weighted_percentage'] > 0]\n",
    "small_median_any = anyntl['NTL_weighted_percentage'].median()\n",
    "print(f\"Median NTL for settlements with any NTL: {small_median_any}\")\n",
    "smallset_monit_perc = (df_small_set['NTL_weighted_percentage'] > 50).mean()\n",
    "print(f\"Proportion monitorable: {smallset_monit_perc:.2%}\")\n",
    "\n",
    "print(\" \")\n",
    "print(\"\\033[1mOverview hamlets\\033[0m\")\n",
    "# Calculate 'hamlets_perc'\n",
    "df_hamlet = df[df['type'] == 'Hamlet']\n",
    "print(f\"Total number of hamlets: {df_hamlet.shape[0]}\")\n",
    "haml_ntl_perc = (df_hamlet['NTL_weighted_percentage'] > 0).mean()\n",
    "print(f\"Proportion nighttime light: {haml_ntl_perc:.2%}\")\n",
    "#median ntl coverage of all the settlements that have at least some NTL\n",
    "anyntl = df_hamlet[df_hamlet['NTL_weighted_percentage'] > 0]\n",
    "hamlet_median_any = anyntl['NTL_weighted_percentage'].median()\n",
    "print(f\"Median NTL for settlements with any NTL: {hamlet_median_any}\")\n",
    "haml_monit_perc = (df_hamlet['NTL_weighted_percentage'] > 50).mean()\n",
    "print(f\"Proportion monitorable: {haml_monit_perc:.2%}\")\n",
    "\n",
    "print(\" \")\n",
    "print(\"\\033[1mOverview monitorable population\\033[0m\")\n",
    "#settlements with more than 50% ntl\n",
    "df_mont = df[df['NTL_weighted_percentage'] > 50]\n",
    "monitorable_pop = df_mont['pop_un_adj'].sum()/df['pop_un_adj'].sum()\n",
    "\n",
    "print(f\"Proportion of population that is monitorable (living in settlements with more than 50% NTL): {monitorable_pop:.2%}\")\n",
    "\n",
    "#settlements with any ntl\n",
    "df_anyntl = df[df['NTL_weighted_percentage'] > 0]\n",
    "pop_anyntl = df_anyntl['pop_un_adj'].sum()/df['pop_un_adj'].sum()\n",
    "\n",
    "print(f\"Proportion of population that lives in settlements with any NTL): {pop_anyntl:.2%}\")"
   ]
  },
  {
   "cell_type": "markdown",
   "id": "ec19da56-6c0d-4bd3-bed9-d0804a39c363",
   "metadata": {
    "papermill": {
     "duration": 0.007589,
     "end_time": "2024-06-28T14:08:23.112666",
     "exception": false,
     "start_time": "2024-06-28T14:08:23.105077",
     "status": "completed"
    },
    "tags": []
   },
   "source": [
    "\n",
    "# Calculate 80% threshold to have any nighttime light"
   ]
  },
  {
   "cell_type": "code",
   "execution_count": null,
   "id": "efffe7a3-f798-4a07-99c0-13a65071aef9",
   "metadata": {
    "papermill": {
     "duration": 11.678637,
     "end_time": "2024-06-28T14:08:34.799167",
     "exception": false,
     "start_time": "2024-06-28T14:08:23.120530",
     "status": "completed"
    },
    "tags": []
   },
   "outputs": [],
   "source": [
    "import pandas as pd\n",
    "import statsmodels.api as sm\n",
    "import numpy as np\n",
    "\n",
    "# Load the dataset\n",
    "df = pd.read_csv(csv_name)\n",
    "\n",
    "# Create the 'any ntl' column, which just looks at whether there is any NTL in the settlement\n",
    "df['any_ntl'] = df['NTL_weighted_percentage'] > 0\n",
    "\n",
    "# Check for missing or infinite values in 'pop_un_adj'\n",
    "df = df.replace([np.inf, -np.inf], np.nan)\n",
    "# Drop rows with missing values\n",
    "df = df.dropna(subset=['pop_un_adj'])\n",
    "\n",
    "# Ensure there is variation in 'pop_un_adj' and 'any_ntl'\n",
    "if df['pop_un_adj'].nunique() <= 1 or df['any_ntl'].nunique() <= 1:\n",
    "    print(\"Insufficient variation in 'pop_un_adj' or 'any_ntl'. Setting threshold_anyntl to NaN.\")\n",
    "    threshold_anyntl = np.nan\n",
    "else:\n",
    "    try:\n",
    "        # Prepare the data for logistic regression\n",
    "        X = df['pop_un_adj']\n",
    "        y = df['any_ntl'].astype(int)  # Convert boolean to int (0 or 1)\n",
    "\n",
    "        # Add a small constant to avoid singular matrix\n",
    "        X = X + 1e-6\n",
    "\n",
    "        # Add a constant to the model (intercept)\n",
    "        X = sm.add_constant(X)\n",
    "\n",
    "        # Fit the logistic regression model\n",
    "        model = sm.Logit(y, X)\n",
    "        result = model.fit()\n",
    "\n",
    "        # Print the summary of the model\n",
    "        print(result.summary())\n",
    "\n",
    "        # Define the function to calculate the probability\n",
    "        def calculate_probability(population, model):\n",
    "            logit = model.params['const'] + model.params['pop_un_adj'] * population\n",
    "            return 1 / (1 + np.exp(-logit))\n",
    "\n",
    "        # Find the population threshold for 80% probability\n",
    "        population_range = np.linspace(df['pop_un_adj'].min(), df['pop_un_adj'].max(), 1000)\n",
    "        probabilities = [calculate_probability(pop, result) for pop in population_range]\n",
    "\n",
    "        # Find the population where the probability is closest to 0.8\n",
    "        threshold_anyntl = population_range[np.argmin(np.abs(np.array(probabilities) - 0.8))]\n",
    "        print(f\"The population threshold for 80% likelihood of having any NTL is approximately {threshold_anyntl}\")\n",
    "    except Exception as e:\n",
    "        print(f\"An error occurred: {str(e)}. Setting threshold_anyntl to NaN.\")\n",
    "        threshold_anyntl = np.nan\n"
   ]
  },
  {
   "cell_type": "markdown",
   "id": "3eb0e501-7883-4ff2-bd28-2f7e4dd40ef6",
   "metadata": {
    "papermill": {
     "duration": 0.00726,
     "end_time": "2024-06-28T14:08:34.814861",
     "exception": false,
     "start_time": "2024-06-28T14:08:34.807601",
     "status": "completed"
    },
    "tags": []
   },
   "source": [
    "# save stats to CSV"
   ]
  },
  {
   "cell_type": "code",
   "execution_count": null,
   "id": "dafea3cc-6548-4053-baf6-44f210328350",
   "metadata": {
    "papermill": {
     "duration": 0.029016,
     "end_time": "2024-06-28T14:08:34.850153",
     "exception": false,
     "start_time": "2024-06-28T14:08:34.821137",
     "status": "completed"
    },
    "tags": []
   },
   "outputs": [],
   "source": [
    "# Create a list of dictionaries\n",
    "stats = [\n",
    "    {\"type\": \"Error\", \"what\": \"Settlements with over 100% NTL\", \"value\": something_wrong},\n",
    "    {\"type\": \"All settlements\", \"what\": \"Total number\", \"value\": len(df)},\n",
    "    {\"type\": \"All settlements\", \"what\": \"Proportion NTL\", \"value\": f\"{settl_ntl_perc:.2%}\"},\n",
    "    {\"type\": \"All settlements\", \"what\": \"Proportion monitorable\", \"value\": f\"{settl_monit_perc:.2%}\"},\n",
    "    {\"type\": \"All settlements\", \"what\": \"Median size NTL settlement\", \"value\": f\"{all_median_any}\"},\n",
    "\n",
    "\n",
    "    {\"type\": \"Built-up\", \"what\": \"Total number\", \"value\": df_built_up.shape[0]},\n",
    "    {\"type\": \"Built-up\", \"what\": \"Proportion NTL\", \"value\": f\"{built_ntl_perc:.2%}\"},\n",
    "    {\"type\": \"Built-up\", \"what\": \"Median NTL value for any NTL\", \"value\": f\"{built_median_any}\"},\n",
    "    {\"type\": \"Built-up\", \"what\": \"Proportion monitorable\", \"value\": f\"{built_monit_perc:.2%}\"},\n",
    "\n",
    "    {\"type\": \"Small settlements\", \"what\": \"Total number\", \"value\": df_small_set.shape[0]},\n",
    "    {\"type\": \"Small settlements\", \"what\": \"Proportion NTL\", \"value\": f\"{smallset_ntl_perc:.2%}\"},\n",
    "    {\"type\": \"Small settlements\", \"what\": \"Median NTL value for any NTL\", \"value\": f\"{small_median_any}\"},\n",
    "    {\"type\": \"Small settlements\", \"what\": \"Proportion monitorable\", \"value\": f\"{smallset_monit_perc:.2%}\"},\n",
    "\n",
    "    {\"type\": \"Hamlets\", \"what\": \"Total number\", \"value\": df_hamlet.shape[0]},\n",
    "    {\"type\": \"Hamlets\", \"what\": \"Proportion NTL\", \"value\": f\"{haml_ntl_perc:.2%}\"},\n",
    "    {\"type\": \"Hamlets\", \"what\": \"Median NTL value for any NTL\", \"value\": f\"{hamlet_median_any}\"},\n",
    "    {\"type\": \"Hamlets\", \"what\": \"Proportion monitorable\", \"value\": f\"{haml_monit_perc:.2%}\"},\n",
    "\n",
    "    {\"type\": \"Population\", \"what\": \"Proportion living in settlements with any NTL\", \"value\": f\"{pop_anyntl:.2%}\"},\n",
    "    {\"type\": \"Population\", \"what\": \"Proportion living in monitorable settlements\", \"value\": f\"{monitorable_pop:.2%}\"},\n",
    "    {\"type\": \"Threshold NTL\", \"what\": \"Threshold 0.8 likelihood of any NTL in a settlement\", \"value\": f\"{threshold_anyntl}\"},\n",
    "]\n",
    "\n",
    "# Convert the list of dictionaries into a DataFrame\n",
    "df_output = pd.DataFrame(stats)\n",
    "\n",
    "# Save the DataFrame to a CSV file\n",
    "output_file = 'overview_key_stats.csv'\n",
    "df_output.to_csv(output_file, index=False)\n",
    "\n",
    "print(\"Data saved\")\n"
   ]
  }
 ],
 "metadata": {
  "kernelspec": {
   "display_name": "Python 3 (ipykernel)",
   "language": "python",
   "name": "python3"
  },
  "language_info": {
   "codemirror_mode": {
    "name": "ipython",
    "version": 3
   },
   "file_extension": ".py",
   "mimetype": "text/x-python",
   "name": "python",
   "nbconvert_exporter": "python",
   "pygments_lexer": "ipython3",
   "version": "3.9.18"
  },
  "papermill": {
   "default_parameters": {},
   "duration": 2484.22028,
   "end_time": "2024-06-28T14:08:37.996086",
   "environment_variables": {},
   "exception": null,
   "input_path": "0_country-level-analysis-parametrized.ipynb",
   "output_path": "output_MOZ.ipynb",
   "parameters": {
    "countrycode": "MOZ",
    "countryname": "Mozambique"
   },
   "start_time": "2024-06-28T13:27:13.775806",
   "version": "2.6.0"
  }
 },
 "nbformat": 4,
 "nbformat_minor": 5
}
