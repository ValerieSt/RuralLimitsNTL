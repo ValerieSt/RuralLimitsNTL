{
 "cells": [
  {
   "cell_type": "code",
   "execution_count": 1,
   "id": "c79a9fe1-ec0d-43de-9dc8-490071ccde41",
   "metadata": {
    "execution": {
     "iopub.execute_input": "2024-07-12T23:26:40.224373Z",
     "iopub.status.busy": "2024-07-12T23:26:40.223812Z",
     "iopub.status.idle": "2024-07-12T23:26:40.235671Z",
     "shell.execute_reply": "2024-07-12T23:26:40.234937Z"
    },
    "papermill": {
     "duration": 0.027149,
     "end_time": "2024-07-12T23:26:40.241838",
     "exception": false,
     "start_time": "2024-07-12T23:26:40.214689",
     "status": "completed"
    },
    "tags": [
     "parameters"
    ]
   },
   "outputs": [
    {
     "name": "stdout",
     "output_type": "stream",
     "text": [
      "Parameters set\n"
     ]
    }
   ],
   "source": [
    "# Setting parameters, replace with defaults when using a master notebook\n",
    "\n",
    "countrycode = 'default'\n",
    "countryname = 'default'\n",
    "\n",
    "print(\"Parameters set\")"
   ]
  },
  {
   "cell_type": "code",
   "execution_count": 2,
   "id": "b0cfd2b3",
   "metadata": {
    "execution": {
     "iopub.execute_input": "2024-07-12T23:26:40.257984Z",
     "iopub.status.busy": "2024-07-12T23:26:40.257136Z",
     "iopub.status.idle": "2024-07-12T23:26:40.263052Z",
     "shell.execute_reply": "2024-07-12T23:26:40.262059Z"
    },
    "papermill": {
     "duration": 0.018883,
     "end_time": "2024-07-12T23:26:40.266986",
     "exception": false,
     "start_time": "2024-07-12T23:26:40.248103",
     "status": "completed"
    },
    "tags": [
     "injected-parameters"
    ]
   },
   "outputs": [],
   "source": [
    "# Parameters\n",
    "countrycode = \"NGA\"\n",
    "countryname = \"Nigeria\"\n"
   ]
  },
  {
   "cell_type": "markdown",
   "id": "686584ea",
   "metadata": {
    "papermill": {
     "duration": 0.005882,
     "end_time": "2024-07-12T23:26:40.277742",
     "exception": false,
     "start_time": "2024-07-12T23:26:40.271860",
     "status": "completed"
    },
    "tags": []
   },
   "source": [
    "# Import Libraries"
   ]
  },
  {
   "cell_type": "code",
   "execution_count": 3,
   "id": "aa0e1cdf",
   "metadata": {
    "execution": {
     "iopub.execute_input": "2024-07-12T23:26:40.288543Z",
     "iopub.status.busy": "2024-07-12T23:26:40.288084Z",
     "iopub.status.idle": "2024-07-12T23:26:44.713904Z",
     "shell.execute_reply": "2024-07-12T23:26:44.712442Z"
    },
    "papermill": {
     "duration": 4.434735,
     "end_time": "2024-07-12T23:26:44.716720",
     "exception": false,
     "start_time": "2024-07-12T23:26:40.281985",
     "status": "completed"
    },
    "tags": []
   },
   "outputs": [
    {
     "name": "stdout",
     "output_type": "stream",
     "text": [
      "All done.\n"
     ]
    }
   ],
   "source": [
    "import pandas as pd\n",
    "import geopandas as gpd\n",
    "import rasterio\n",
    "from rasterio.transform import from_origin, xy, Affine\n",
    "from rasterio.features import geometry_mask\n",
    "from rasterio.mask import mask\n",
    "from rasterstats import zonal_stats\n",
    "import numpy as np\n",
    "import os\n",
    "import time\n",
    "from osgeo import gdal\n",
    "gdal.UseExceptions()\n",
    "from exactextract import exact_extract\n",
    "import matplotlib.pyplot as plt\n",
    "import matplotlib.patches as mpatches\n",
    "from shapely.geometry import shape, Point\n",
    "from shapely.ops import unary_union\n",
    "import statsmodels.api as sm\n",
    "import pyreadr\n",
    "from geopy.distance import geodesic\n",
    "import papermill as pm\n",
    "import folium\n",
    "import matplotlib.colors as mcolors\n",
    "from PIL import Image, ImageDraw, ImageFont\n",
    "import rioxarray\n",
    "\n",
    "print(\"All done.\")"
   ]
  },
  {
   "cell_type": "markdown",
   "id": "ee48cb26",
   "metadata": {
    "papermill": {
     "duration": 0.015318,
     "end_time": "2024-07-12T23:26:44.737469",
     "exception": false,
     "start_time": "2024-07-12T23:26:44.722151",
     "status": "completed"
    },
    "tags": []
   },
   "source": [
    "# Load and Prepare Data"
   ]
  },
  {
   "cell_type": "code",
   "execution_count": 4,
   "id": "bca5a914",
   "metadata": {
    "execution": {
     "iopub.execute_input": "2024-07-12T23:26:44.748811Z",
     "iopub.status.busy": "2024-07-12T23:26:44.748194Z",
     "iopub.status.idle": "2024-07-12T23:26:47.364488Z",
     "shell.execute_reply": "2024-07-12T23:26:47.363462Z"
    },
    "papermill": {
     "duration": 2.625487,
     "end_time": "2024-07-12T23:26:47.368593",
     "exception": false,
     "start_time": "2024-07-12T23:26:44.743106",
     "status": "completed"
    },
    "tags": []
   },
   "outputs": [
    {
     "name": "stdout",
     "output_type": "stream",
     "text": [
      "Data loaded\n",
      "Data preview before 'haslight' column creation:\n",
      "           x          y  ntl       pop\n",
      "0   5.518750  13.889583  0.0  0.000000\n",
      "1   5.522917  13.889583  0.0  0.000000\n",
      "2   5.527083  13.889583  0.0  0.457775\n",
      "3   5.531250  13.889583  0.0  0.328335\n",
      "4   5.506250  13.885417  0.0  0.000000\n",
      "..       ...        ...  ...       ...\n",
      "95  5.506250  13.868750  0.0  0.108919\n",
      "96  5.510417  13.868750  0.0  0.457775\n",
      "97  5.514583  13.868750  0.0  0.000000\n",
      "98  5.518750  13.868750  0.0  0.598580\n",
      "99  5.522917  13.868750  0.0  1.561170\n",
      "\n",
      "[100 rows x 4 columns]\n",
      "Data preview after 'haslight' column creation:\n",
      "           x          y  ntl       pop  haslight\n",
      "0   5.518750  13.889583  0.0  0.000000         0\n",
      "1   5.522917  13.889583  0.0  0.000000         0\n",
      "2   5.527083  13.889583  0.0  0.457775         0\n",
      "3   5.531250  13.889583  0.0  0.328335         0\n",
      "4   5.506250  13.885417  0.0  0.000000         0\n",
      "..       ...        ...  ...       ...       ...\n",
      "95  5.506250  13.868750  0.0  0.108919         0\n",
      "96  5.510417  13.868750  0.0  0.457775         0\n",
      "97  5.514583  13.868750  0.0  0.000000         0\n",
      "98  5.518750  13.868750  0.0  0.598580         0\n",
      "99  5.522917  13.868750  0.0  1.561170         0\n",
      "\n",
      "[100 rows x 5 columns]\n",
      "Columns 'ntl' and 'pop' dropped\n"
     ]
    }
   ],
   "source": [
    "start_time = time.time()\n",
    "\n",
    "# Setting the working directory to the country's subfolder\n",
    "base_path = os.getcwd()\n",
    "os.chdir(os.path.join(base_path, countrycode))\n",
    "\n",
    "# Load the rds data\n",
    "rds_file = countrycode + '_ntl_pop.rds'\n",
    "results = pyreadr.read_r(rds_file)\n",
    "# Extract the data frame from the result\n",
    "data = results[None]  # Extracts the first (and usually only) dataframe from the result\n",
    "\n",
    "print(\"Data loaded\")\n",
    "\n",
    "# Debugging: Check the first few rows of the data\n",
    "print(\"Data preview before 'haslight' column creation:\")\n",
    "print(data.head(100))\n",
    "\n",
    "# Create a binary 'haslight' column based on 'ntl' values\n",
    "data['haslight'] = (data['ntl'] > 0).astype(int)\n",
    "\n",
    "# Debugging: Check the first few rows after 'haslight' column creation\n",
    "print(\"Data preview after 'haslight' column creation:\")\n",
    "print(data.head(100))\n",
    "\n",
    "data.drop(columns=['ntl', 'pop'], inplace=True)\n",
    "print(\"Columns 'ntl' and 'pop' dropped\")\n"
   ]
  },
  {
   "cell_type": "markdown",
   "id": "f1ae648d",
   "metadata": {
    "papermill": {
     "duration": 0.007902,
     "end_time": "2024-07-12T23:26:47.382679",
     "exception": false,
     "start_time": "2024-07-12T23:26:47.374777",
     "status": "completed"
    },
    "tags": []
   },
   "source": [
    "# Convert DataFrame to GeoDataFrame\n",
    "\n",
    "Fast"
   ]
  },
  {
   "cell_type": "code",
   "execution_count": 5,
   "id": "c7de8e61",
   "metadata": {
    "execution": {
     "iopub.execute_input": "2024-07-12T23:26:47.392509Z",
     "iopub.status.busy": "2024-07-12T23:26:47.392178Z",
     "iopub.status.idle": "2024-07-12T23:26:50.363127Z",
     "shell.execute_reply": "2024-07-12T23:26:50.361544Z"
    },
    "papermill": {
     "duration": 2.977994,
     "end_time": "2024-07-12T23:26:50.366325",
     "exception": false,
     "start_time": "2024-07-12T23:26:47.388331",
     "status": "completed"
    },
    "tags": []
   },
   "outputs": [
    {
     "name": "stdout",
     "output_type": "stream",
     "text": [
      "Converted to GeoDataFrame\n",
      "Time to execute: 0.05\n"
     ]
    }
   ],
   "source": [
    "start_time = time.time()\n",
    "# Convert the DataFrame to a GeoDataFrame\n",
    "gdf = gpd.GeoDataFrame(data, geometry=gpd.points_from_xy(data['x'], data['y']))\n",
    "print(\"Converted to GeoDataFrame\")\n",
    "end_time = time.time()\n",
    "print(f\"Time to execute: {((time.time() - start_time)/60):.2f}\")"
   ]
  },
  {
   "cell_type": "code",
   "execution_count": 6,
   "id": "29de3016-a92b-4bc5-aebf-a90aa3ccec3f",
   "metadata": {
    "execution": {
     "iopub.execute_input": "2024-07-12T23:26:50.381784Z",
     "iopub.status.busy": "2024-07-12T23:26:50.381110Z",
     "iopub.status.idle": "2024-07-12T23:29:00.662275Z",
     "shell.execute_reply": "2024-07-12T23:29:00.660926Z"
    },
    "papermill": {
     "duration": 130.294275,
     "end_time": "2024-07-12T23:29:00.666138",
     "exception": false,
     "start_time": "2024-07-12T23:26:50.371863",
     "status": "completed"
    },
    "tags": []
   },
   "outputs": [
    {
     "data": {
      "text/plain": [
       "<Axes: >"
      ]
     },
     "execution_count": 6,
     "metadata": {},
     "output_type": "execute_result"
    },
    {
     "data": {
      "image/png": "[encoded data removed]",
      "text/plain": [
       "<Figure size 640x480 with 1 Axes>"
      ]
     },
     "metadata": {},
     "output_type": "display_data"
    }
   ],
   "source": [
    "gdf.plot()"
   ]
  },
  {
   "cell_type": "code",
   "execution_count": 7,
   "id": "7e01c113-1d70-46a0-b20b-45bd9528bf3f",
   "metadata": {
    "execution": {
     "iopub.execute_input": "2024-07-12T23:29:00.683864Z",
     "iopub.status.busy": "2024-07-12T23:29:00.683017Z",
     "iopub.status.idle": "2024-07-12T23:29:05.597449Z",
     "shell.execute_reply": "2024-07-12T23:29:05.596702Z"
    },
    "papermill": {
     "duration": 4.925959,
     "end_time": "2024-07-12T23:29:05.600696",
     "exception": false,
     "start_time": "2024-07-12T23:29:00.674737",
     "status": "completed"
    },
    "tags": []
   },
   "outputs": [
    {
     "data": {
      "text/plain": [
       "<matplotlib.collections.QuadMesh at 0x351094130>"
      ]
     },
     "execution_count": 7,
     "metadata": {},
     "output_type": "execute_result"
    },
    {
     "data": {
      "image/png": "[encoded data removed]",
      "text/plain": [
       "<Figure size 640x480 with 2 Axes>"
      ]
     },
     "metadata": {},
     "output_type": "display_data"
    }
   ],
   "source": [
    "ds = data.set_index(['y', 'x']).to_xarray()\n",
    "ds.haslight.plot()"
   ]
  },
  {
   "cell_type": "code",
   "execution_count": 8,
   "id": "f85cf11f-584a-4c23-8eb6-a7fa6192a91c",
   "metadata": {
    "execution": {
     "iopub.execute_input": "2024-07-12T23:29:05.620680Z",
     "iopub.status.busy": "2024-07-12T23:29:05.620198Z",
     "iopub.status.idle": "2024-07-12T23:29:05.790429Z",
     "shell.execute_reply": "2024-07-12T23:29:05.789213Z"
    },
    "papermill": {
     "duration": 0.184253,
     "end_time": "2024-07-12T23:29:05.793812",
     "exception": false,
     "start_time": "2024-07-12T23:29:05.609559",
     "status": "completed"
    },
    "tags": []
   },
   "outputs": [
    {
     "name": "stdout",
     "output_type": "stream",
     "text": [
      "Time to execute: 0.00\n"
     ]
    }
   ],
   "source": [
    "# transform data array and write it to a GeoTIFF \n",
    "\n",
    "start_time = time.time()\n",
    "data_array = ds.haslight.values[::-1]\n",
    "xmin, ymin, xmax, ymax = gdf.total_bounds\n",
    "pixel_size = 15 / 3600 \n",
    "transform = Affine.translation(xmin - pixel_size / 2, ymax + pixel_size / 2) * Affine.scale(pixel_size, -pixel_size)#from_origin(xmin, ymax, pixel_size, pixel_size)\n",
    "with rasterio.open(\n",
    "    'haslight.tif',\n",
    "    'w', \n",
    "    driver='GTiff',\n",
    "    height=data_array.shape[0],\n",
    "    width=data_array.shape[1],\n",
    "    count=1,\n",
    "    dtype=data_array.dtype,\n",
    "    crs='EPSG:4326',\n",
    "    transform=transform,\n",
    ") as tiff:\n",
    "    tiff.write(data_array, 1)\n",
    "print(f\"Time to execute: {((time.time() - start_time)/60):.2f}\")"
   ]
  },
  {
   "cell_type": "markdown",
   "id": "b9a6f934",
   "metadata": {
    "papermill": {
     "duration": 0.006774,
     "end_time": "2024-07-12T23:29:05.807085",
     "exception": false,
     "start_time": "2024-07-12T23:29:05.800311",
     "status": "completed"
    },
    "tags": []
   },
   "source": [
    "# Load Shapefile\n",
    "\n",
    "This takes some time, depending on file size"
   ]
  },
  {
   "cell_type": "code",
   "execution_count": 9,
   "id": "af4b52f4",
   "metadata": {
    "execution": {
     "iopub.execute_input": "2024-07-12T23:29:05.823492Z",
     "iopub.status.busy": "2024-07-12T23:29:05.823051Z",
     "iopub.status.idle": "2024-07-12T23:58:57.329590Z",
     "shell.execute_reply": "2024-07-12T23:58:57.328380Z"
    },
    "papermill": {
     "duration": 1791.524421,
     "end_time": "2024-07-12T23:58:57.339459",
     "exception": false,
     "start_time": "2024-07-12T23:29:05.815038",
     "status": "completed"
    },
    "tags": []
   },
   "outputs": [
    {
     "name": "stdout",
     "output_type": "stream",
     "text": [
      "Loading\n",
      "grid3_NGA/GRID3_Nigeria_Settlement_Extents_Version_01.02..shp\n",
      "...\n"
     ]
    },
    {
     "name": "stdout",
     "output_type": "stream",
     "text": [
      "Column 'pop_wp_un_adj' does not exist.\n",
      "Column 'pop_un_adj' already exists.\n",
      "Column 'pop_wp_un_' does not exist.\n",
      "Column 'pop_un_adj' already exists.\n",
      "Numbers for each settlement type before geometries applied:\n",
      "type\n",
      "Hamlet                   1261842\n",
      "Small Settlement Area     115553\n",
      "Built-up Area               2527\n",
      "Name: count, dtype: int64\n"
     ]
    },
    {
     "name": "stdout",
     "output_type": "stream",
     "text": [
      "Hamlet: 0 geometries removed (0.00%)\n",
      "Small Settlement Area: 0 geometries removed (0.00%)\n",
      "Built-up Area: 0 geometries removed (0.00%)\n",
      "Invalid and empty geometries removed\n",
      "Numbers for each settlement type AFTER geometries applied:\n",
      "type\n",
      "Hamlet                   1261842\n",
      "Small Settlement Area     115553\n",
      "Built-up Area               2527\n",
      "Name: count, dtype: int64\n",
      "Time to execute: 29.86 minutes\n"
     ]
    }
   ],
   "source": [
    "start_time = time.time()\n",
    "\n",
    "# Go to the grid3 subfolder\n",
    "grid3_folder = 'grid3_' + countrycode\n",
    "\n",
    "# Find the shapefile in the directory\n",
    "shapefile = None\n",
    "\n",
    "#for countrynames with several words\n",
    "first_word_countryname = countryname.split()[0]\n",
    "\n",
    "# shapefile should contain the ending .shp, and the countrycode or countryname (at least the first word), as grid3 data tends to do\n",
    "for file in os.listdir(grid3_folder):\n",
    "    if file.endswith('.shp') and (countrycode in file or first_word_countryname in file):\n",
    "        shapefile = file\n",
    "        break\n",
    "\n",
    "# Check if the shapefile was found and if it contains the countrycode\n",
    "if shapefile is None:\n",
    "    print('No shapefile found in the directory ending with .shp')\n",
    "\n",
    "# Print the shapefile path\n",
    "shapefile_path = os.path.join(grid3_folder, shapefile)\n",
    "\n",
    "print(\"Loading\")\n",
    "print(shapefile_path)\n",
    "print(\"...\")\n",
    "\n",
    "settlements = gpd.read_file(shapefile_path)\n",
    "\n",
    "# Ensure spelling is Built-up and not Built-Up (e.g. Kenya data)\n",
    "settlements['type'] = settlements['type'].replace('Built-Up Area', 'Built-up Area')\n",
    "\n",
    "# Rename columns if necessary\n",
    "columns_to_rename = {'pop_wp_un_adj': 'pop_un_adj', 'pop_wp_un_': 'pop_un_adj'}\n",
    "\n",
    "for old_name, new_name in columns_to_rename.items():\n",
    "    if old_name in settlements.columns and new_name not in settlements.columns:\n",
    "        settlements.rename(columns={old_name: new_name}, inplace=True)\n",
    "        print(f\"Column '{old_name}' renamed to '{new_name}'\")\n",
    "        print(settlements.columns)\n",
    "    else:\n",
    "        if old_name not in settlements.columns:\n",
    "            print(f\"Column '{old_name}' does not exist.\")\n",
    "        if new_name in settlements.columns:\n",
    "            print(f\"Column '{new_name}' already exists.\")\n",
    "\n",
    "\n",
    "#checking total of settlements per type\n",
    "settlement_type_counts = settlements['type'].value_counts()\n",
    "print(\"Numbers for each settlement type before geometries applied:\")\n",
    "print(settlement_type_counts)\n",
    "\n",
    "# Count the number of geometries for each settlement type before removal\n",
    "type_counts_before = settlements['type'].value_counts()\n",
    "\n",
    "# Ensure all geometries are valid\n",
    "settlements['geometry'] = settlements['geometry'].astype(object).apply(lambda geom: geom if geom.is_valid else geom.buffer(0))\n",
    "\n",
    "# Remove empty geometries\n",
    "settlements = settlements[~settlements['geometry'].is_empty]\n",
    "\n",
    "# Count the number of geometries for each settlement type after removal\n",
    "type_counts_after = settlements['type'].value_counts()\n",
    "\n",
    "# Calculate the number and proportion of geometries removed for each settlement type\n",
    "for settlement_type in type_counts_before.index:\n",
    "    count_before = type_counts_before[settlement_type]\n",
    "    count_after = type_counts_after.get(settlement_type, 0)\n",
    "    count_removed = count_before - count_after\n",
    "    proportion_removed = count_removed / count_before\n",
    "    print(f\"{settlement_type}: {count_removed} geometries removed ({proportion_removed:.2%})\")\n",
    "print(\"Invalid and empty geometries removed\")\n",
    "print(\"Numbers for each settlement type AFTER geometries applied:\")\n",
    "settlement_type_counts = settlements['type'].value_counts()\n",
    "print(settlement_type_counts)\n",
    "\n",
    "print(f\"Time to execute: {((time.time() - start_time)/60):.2f} minutes\")\n"
   ]
  },
  {
   "cell_type": "markdown",
   "id": "57d289d9",
   "metadata": {
    "papermill": {
     "duration": 0.007432,
     "end_time": "2024-07-12T23:58:57.354988",
     "exception": false,
     "start_time": "2024-07-12T23:58:57.347556",
     "status": "completed"
    },
    "tags": []
   },
   "source": [
    "# Calculate zonal statistics\n",
    "\n",
    "In this step, simply check if there is NTL (0/1), then for each settlement calculate what percentage of the polygon has NTL. \n",
    "\n",
    "This cell takes some time, with Sudan, around 10min."
   ]
  },
  {
   "cell_type": "code",
   "execution_count": 10,
   "id": "ef34f92b-b5e2-411d-88af-e922456cd64d",
   "metadata": {
    "execution": {
     "iopub.execute_input": "2024-07-12T23:58:57.369488Z",
     "iopub.status.busy": "2024-07-12T23:58:57.369203Z",
     "iopub.status.idle": "2024-07-13T00:10:25.346212Z",
     "shell.execute_reply": "2024-07-13T00:10:25.344348Z"
    },
    "papermill": {
     "duration": 687.996113,
     "end_time": "2024-07-13T00:10:25.356792",
     "exception": false,
     "start_time": "2024-07-12T23:58:57.360679",
     "status": "completed"
    },
    "tags": []
   },
   "outputs": [
    {
     "name": "stdout",
     "output_type": "stream",
     "text": [
      "Weighted percentages added to GeoDataFrame\n",
      "Execution time: 11.46610765059789 minutes\n"
     ]
    }
   ],
   "source": [
    "import rasterio\n",
    "import numpy as np\n",
    "from osgeo import gdal\n",
    "import geopandas as gpd\n",
    "from exactextract import exact_extract\n",
    "import time\n",
    "\n",
    "# Start time for execution time calculation\n",
    "start_time = time.time()\n",
    "\n",
    "# Specify the path to your raster data\n",
    "raster_path = 'haslight.tif'\n",
    "\n",
    "# Open the raster and convert it to binary (has light or has no light)\n",
    "with rasterio.open(raster_path) as src:\n",
    "    raster_data = src.read(1)  # Read the first band\n",
    "    binary_raster_data = (raster_data > 0).astype(int)  # Convert to binary\n",
    "\n",
    "    # Write the binary raster to a new file (optional, can also be done in-memory)\n",
    "    binary_raster_path = 'binary_haslight.tif'\n",
    "    profile = src.profile\n",
    "    with rasterio.open(binary_raster_path, 'w', **profile) as dst:\n",
    "        dst.write(binary_raster_data, 1)\n",
    "\n",
    "# Perform the exact extraction using the binary raster\n",
    "settlements_updated = settlements.copy()\n",
    "results = exact_extract(binary_raster_path, settlements, [\"mean\"])\n",
    "\n",
    "# Add the weighted mean light coverage to the settlements GeoDataFrame\n",
    "settlements_updated['NTL_weighted_percentage'] = [feature['properties']['mean'] * 100 for feature in results]\n",
    "print(\"Weighted percentages added to GeoDataFrame\")\n",
    "\n",
    "# Calculate the execution time\n",
    "end_time = time.time()\n",
    "execution_time = end_time - start_time\n",
    "print(f\"Execution time: {execution_time/60} minutes\")\n"
   ]
  },
  {
   "cell_type": "markdown",
   "id": "fcf5ec2f-7b38-4ebf-88cf-9d6caad5312d",
   "metadata": {
    "papermill": {
     "duration": 0.007352,
     "end_time": "2024-07-13T00:10:25.371382",
     "exception": false,
     "start_time": "2024-07-13T00:10:25.364030",
     "status": "completed"
    },
    "tags": []
   },
   "source": [
    "# Calculates distances\n"
   ]
  },
  {
   "cell_type": "code",
   "execution_count": 11,
   "id": "5944ffa4-aa97-4876-b10c-911e14caa652",
   "metadata": {
    "execution": {
     "iopub.execute_input": "2024-07-13T00:10:25.386785Z",
     "iopub.status.busy": "2024-07-13T00:10:25.386442Z",
     "iopub.status.idle": "2024-07-13T00:21:08.183366Z",
     "shell.execute_reply": "2024-07-13T00:21:08.180014Z"
    },
    "papermill": {
     "duration": 642.813612,
     "end_time": "2024-07-13T00:21:08.191491",
     "exception": false,
     "start_time": "2024-07-13T00:10:25.377879",
     "status": "completed"
    },
    "tags": []
   },
   "outputs": [
    {
     "name": "stdout",
     "output_type": "stream",
     "text": [
      "Country: NGA, EPSG: 32633\n"
     ]
    },
    {
     "name": "stdout",
     "output_type": "stream",
     "text": [
      "Number of invalid entries excluded: 0\n",
      "                  centroid  capital_distance  state_capital_distance  \\\n",
      "0  POINT (4.96019 5.92724)       3191.806069                     NaN   \n",
      "1  POINT (4.78160 6.10617)       3202.900494              134.500897   \n",
      "2  POINT (4.75024 6.13156)       3205.109136              133.104661   \n",
      "3  POINT (4.69585 6.17918)       3208.804910              130.648770   \n",
      "4  POINT (4.63545 6.24355)       3212.467257              127.338102   \n",
      "\n",
      "   NTL_weighted_percentage  \n",
      "0                 98.30626  \n",
      "1                  0.00000  \n",
      "2                  0.00000  \n",
      "3                  0.00000  \n",
      "4                  0.00000  \n",
      "Time to execute: 10.71 minutes\n"
     ]
    }
   ],
   "source": [
    "# Start timing\n",
    "start_time = time.time()\n",
    "\n",
    "# Copy the GeoDataFrame with a new name\n",
    "settlements_centroids = settlements_updated.copy()\n",
    "\n",
    "# Dictionary mapping country codes to EPSG codes\n",
    "country_epsg_mapping = {\n",
    "    'AGO': 22033,\n",
    "    'BDI': 32736, 'KEN': 32736, 'MOZ': 32736, 'RWA': 32736, 'TZA': 32736, 'UGA': 32736,\n",
    "    'BFA': 32630,\n",
    "    'CMR': 32633, 'CAF': 32633, 'TCD': 32633, 'COG': 32633, 'COD': 32633, 'NER': 32633, 'NGA': 32633,\n",
    "    'ERI': 20136, 'ETH': 20136, 'SSD': 20136, 'SDN': 20136,\n",
    "    'MLI': 32629,\n",
    "    'SOM': 32639\n",
    "}\n",
    "\n",
    "# Assign EPSG code\n",
    "country_epsg = country_epsg_mapping.get(countrycode, None)\n",
    "if country_epsg:\n",
    "    print(f\"Country: {countrycode}, EPSG: {country_epsg}\")\n",
    "else:\n",
    "    print(f\"Country: {countrycode}, EPSG: Not Found\")\n",
    "\n",
    "# Reproject to a projected CRS (e.g., UTM zone 36N)\n",
    "settlements_centroids = settlements_centroids.to_crs(epsg=country_epsg)\n",
    "\n",
    "# Calculate the centroid of each geometry\n",
    "settlements_centroids['centroid'] = settlements_centroids.geometry.centroid\n",
    "\n",
    "# Reproject centroids back to geographic CRS (WGS84) for distance calculation\n",
    "centroids_geo = settlements_centroids.copy()\n",
    "centroids_geo = centroids_geo.set_geometry('centroid')\n",
    "centroids_geo = centroids_geo.to_crs(epsg=4326)\n",
    "\n",
    "# Filter out invalid centroids (latitude must be in the [-90; 90] range and longitude in the [-180; 180] range)\n",
    "valid_centroids_geo = centroids_geo[\n",
    "    (centroids_geo['centroid'].y >= -90) &\n",
    "    (centroids_geo['centroid'].y <= 90) &\n",
    "    (centroids_geo['centroid'].x >= -180) &\n",
    "    (centroids_geo['centroid'].x <= 180)\n",
    "]\n",
    "\n",
    "invalid_count = len(centroids_geo) - len(valid_centroids_geo)\n",
    "\n",
    "# Coordinates for Khartoum\n",
    "khartoum_coords = (15.6, 32.5)\n",
    "\n",
    "# Function to calculate the Haversine distance\n",
    "def calculate_haversine_distance(centroid, destination_coords):\n",
    "    centroid_coords = (centroid.y, centroid.x)  # (lat, lon)\n",
    "    return geodesic(centroid_coords, destination_coords).kilometers\n",
    "\n",
    "# Calculate the distance of the centroid to Khartoum\n",
    "valid_centroids_geo['capital_distance'] = valid_centroids_geo['centroid'].apply(\n",
    "    calculate_haversine_distance, destination_coords=khartoum_coords\n",
    ")\n",
    "\n",
    "# Load the state capital coordinates from CSV\n",
    "points_csv = 'state_capital_list_' + countrycode + '_points.csv'\n",
    "state_capital_df = pd.read_csv(points_csv)\n",
    "\n",
    "# Convert the state capital coordinates to a dictionary\n",
    "state_capital_dict = state_capital_df.set_index('state')['state_capital_point'].to_dict()\n",
    "\n",
    "# Function to calculate the distance to the state capital\n",
    "def calculate_state_capital_distance(row):\n",
    "    state = row['adm1_name']\n",
    "    if state in state_capital_dict:\n",
    "        state_capital_coords = tuple(map(float, state_capital_dict[state].strip('()').split(',')))\n",
    "        return calculate_haversine_distance(row['centroid'], state_capital_coords)\n",
    "    else:\n",
    "        return None\n",
    "\n",
    "# Calculate the distance to the state capital\n",
    "valid_centroids_geo['state_capital_distance'] = valid_centroids_geo.apply(\n",
    "    calculate_state_capital_distance, axis=1\n",
    ")\n",
    "\n",
    "# Print the count of invalid entries\n",
    "print(f\"Number of invalid entries excluded: {invalid_count}\")\n",
    "\n",
    "# Print the first few rows to verify\n",
    "print(valid_centroids_geo[['centroid', 'capital_distance', 'state_capital_distance', 'NTL_weighted_percentage']].head())\n",
    "\n",
    "print(f\"Time to execute: {((time.time() - start_time)/60):.2f} minutes\")\n"
   ]
  },
  {
   "cell_type": "markdown",
   "id": "bbdf352a",
   "metadata": {
    "papermill": {
     "duration": 0.006741,
     "end_time": "2024-07-13T00:21:08.207088",
     "exception": false,
     "start_time": "2024-07-13T00:21:08.200347",
     "status": "completed"
    },
    "tags": []
   },
   "source": [
    "# Save Results\n"
   ]
  },
  {
   "cell_type": "code",
   "execution_count": 12,
   "id": "9be29291-bef7-4d0b-876e-2627b5fab348",
   "metadata": {
    "execution": {
     "iopub.execute_input": "2024-07-13T00:21:08.222997Z",
     "iopub.status.busy": "2024-07-13T00:21:08.222515Z",
     "iopub.status.idle": "2024-07-13T00:23:00.569234Z",
     "shell.execute_reply": "2024-07-13T00:23:00.567432Z"
    },
    "papermill": {
     "duration": 112.364319,
     "end_time": "2024-07-13T00:23:00.578999",
     "exception": false,
     "start_time": "2024-07-13T00:21:08.214680",
     "status": "completed"
    },
    "tags": []
   },
   "outputs": [
    {
     "name": "stdout",
     "output_type": "stream",
     "text": [
      "CSV saved, all done.\n",
      "Time to execute: 1.87 minutes\n"
     ]
    }
   ],
   "source": [
    "start_time = time.time()\n",
    "\n",
    "csv_name = countrycode + '_grid3_with_ntl_percentage.csv'\n",
    "valid_centroids_geo.drop(columns=['geometry']).to_csv(csv_name, index=False)\n",
    "print(\"CSV saved, all done.\")\n",
    "\n",
    "print(f\"Time to execute: {((time.time() - start_time)/60):.2f} minutes\")\n"
   ]
  },
  {
   "cell_type": "markdown",
   "id": "fa0423a4",
   "metadata": {
    "papermill": {
     "duration": 0.011514,
     "end_time": "2024-07-13T00:23:00.597764",
     "exception": false,
     "start_time": "2024-07-13T00:23:00.586250",
     "status": "completed"
    },
    "tags": []
   },
   "source": [
    "# Calculate key stats"
   ]
  },
  {
   "cell_type": "code",
   "execution_count": 13,
   "id": "af18db85",
   "metadata": {
    "execution": {
     "iopub.execute_input": "2024-07-13T00:23:00.611915Z",
     "iopub.status.busy": "2024-07-13T00:23:00.611387Z",
     "iopub.status.idle": "2024-07-13T00:23:16.865715Z",
     "shell.execute_reply": "2024-07-13T00:23:16.864927Z"
    },
    "papermill": {
     "duration": 16.265521,
     "end_time": "2024-07-13T00:23:16.870233",
     "exception": false,
     "start_time": "2024-07-13T00:23:00.604712",
     "status": "completed"
    },
    "tags": []
   },
   "outputs": [
    {
     "name": "stdout",
     "output_type": "stream",
     "text": [
      "\u001b[1mKey stats Nigerian\u001b[0m\n",
      "Something wrong with 0 entries\n",
      " \n",
      "\u001b[1mOverview all settlements\u001b[0m\n",
      "Proportion nighttime light: 2.37%\n",
      "Proportion monitorable: 2.01%\n",
      " \n",
      "\u001b[1mOverview built-up areas\u001b[0m\n",
      "Total number of built-up areas: 2527\n",
      "Proportion nighttime light > 0: 45.19%\n",
      "Median NTL for settlements with any NTL: 63.24348570017878\n",
      "Proportion monitorable: 27.38%\n",
      " \n",
      "\u001b[1mOverview small settlements\u001b[0m\n"
     ]
    },
    {
     "name": "stdout",
     "output_type": "stream",
     "text": [
      "Total number of small settlement areas: 115553\n",
      "Proportion nighttime light: 3.64%\n",
      "Median NTL for settlements with any NTL: 80.7652707511539\n",
      "Proportion monitorable: 2.44%\n",
      " \n",
      "\u001b[1mOverview hamlets\u001b[0m\n"
     ]
    },
    {
     "name": "stdout",
     "output_type": "stream",
     "text": [
      "Total number of hamlets: 1261842\n",
      "Proportion nighttime light: 2.16%\n",
      "Median NTL for settlements with any NTL: 100.0\n",
      "Proportion monitorable: 1.92%\n",
      " \n",
      "\u001b[1mOverview monitorable population\u001b[0m\n",
      "Proportion of population that is monitorable (living in settlements with more than 50% NTL): 41.04%\n",
      "Proportion of population that lives in settlements with any NTL): 51.16%\n"
     ]
    }
   ],
   "source": [
    "# Load the data from the CSV file\n",
    "df = pd.read_csv(csv_name)\n",
    "\n",
    "print(f\"\\033[1mKey stats {countryname}n\\033[0m\")\n",
    "\n",
    "# Calculate 'something_wrong' (should be 0)\n",
    "#something_wrong = (df['NTL_weighted_percentage'] > 100).sum()\n",
    "#print(f\"Number of rows where there is something wrong with 'NTL_weighted_percentage': {something_wrong}\")\n",
    "something_wrong = (df['NTL_weighted_percentage'] > 100).sum()\n",
    "print(f\"Something wrong with {something_wrong} entries\")\n",
    "      \n",
    "print(\" \")\n",
    "# Calculate 'settl_ntl_perc'\n",
    "print(\"\\033[1mOverview all settlements\\033[0m\")\n",
    "settl_ntl_perc = (df['NTL_weighted_percentage'] > 0).mean()\n",
    "print(f\"Proportion nighttime light: {settl_ntl_perc:.2%}\")\n",
    "settl_monit_perc = (df['NTL_weighted_percentage'] > 50).mean()\n",
    "print(f\"Proportion monitorable: {settl_monit_perc:.2%}\")\n",
    "anyntl = df[df['NTL_weighted_percentage'] > 0]\n",
    "all_median_any = anyntl['NTL_weighted_percentage'].median()\n",
    "\n",
    "print(\" \")\n",
    "print(\"\\033[1mOverview built-up areas\\033[0m\")\n",
    "# Calculate 'built_up_perc'\n",
    "df_built_up = df[df['type'] == 'Built-up Area']\n",
    "#Get the total number of built-up areas; shape gives tuple of dimensions\n",
    "print(f\"Total number of built-up areas: {df_built_up.shape[0]}\")\n",
    "built_ntl_perc = (df_built_up['NTL_weighted_percentage'] > 0).mean()\n",
    "print(f\"Proportion nighttime light > 0: {built_ntl_perc:.2%}\")\n",
    "\n",
    "#median ntl coverage of all the settlements that have at least some NTL\n",
    "anyntl = df_built_up[df_built_up['NTL_weighted_percentage'] > 0]\n",
    "built_median_any = anyntl['NTL_weighted_percentage'].median()\n",
    "print(f\"Median NTL for settlements with any NTL: {built_median_any}\")\n",
    "built_monit_perc = (df_built_up['NTL_weighted_percentage'] > 50).mean()\n",
    "print(f\"Proportion monitorable: {built_monit_perc:.2%}\")\n",
    "\n",
    "\n",
    "print(\" \")\n",
    "print(\"\\033[1mOverview small settlements\\033[0m\")\n",
    "# Calculate 'small_settl_perc'\n",
    "df_small_set = df[df['type'] == 'Small Settlement Area']\n",
    "print(f\"Total number of small settlement areas: {df_small_set.shape[0]}\")\n",
    "smallset_ntl_perc = (df_small_set['NTL_weighted_percentage'] > 0).mean()\n",
    "print(f\"Proportion nighttime light: {smallset_ntl_perc:.2%}\")\n",
    "#median ntl coverage of all the settlements that have at least some NTL\n",
    "anyntl = df_small_set[df_small_set['NTL_weighted_percentage'] > 0]\n",
    "small_median_any = anyntl['NTL_weighted_percentage'].median()\n",
    "print(f\"Median NTL for settlements with any NTL: {small_median_any}\")\n",
    "smallset_monit_perc = (df_small_set['NTL_weighted_percentage'] > 50).mean()\n",
    "print(f\"Proportion monitorable: {smallset_monit_perc:.2%}\")\n",
    "\n",
    "print(\" \")\n",
    "print(\"\\033[1mOverview hamlets\\033[0m\")\n",
    "# Calculate 'hamlets_perc'\n",
    "df_hamlet = df[df['type'] == 'Hamlet']\n",
    "print(f\"Total number of hamlets: {df_hamlet.shape[0]}\")\n",
    "haml_ntl_perc = (df_hamlet['NTL_weighted_percentage'] > 0).mean()\n",
    "print(f\"Proportion nighttime light: {haml_ntl_perc:.2%}\")\n",
    "#median ntl coverage of all the settlements that have at least some NTL\n",
    "anyntl = df_hamlet[df_hamlet['NTL_weighted_percentage'] > 0]\n",
    "hamlet_median_any = anyntl['NTL_weighted_percentage'].median()\n",
    "print(f\"Median NTL for settlements with any NTL: {hamlet_median_any}\")\n",
    "haml_monit_perc = (df_hamlet['NTL_weighted_percentage'] > 50).mean()\n",
    "print(f\"Proportion monitorable: {haml_monit_perc:.2%}\")\n",
    "\n",
    "print(\" \")\n",
    "print(\"\\033[1mOverview monitorable population\\033[0m\")\n",
    "#settlements with more than 50% ntl\n",
    "df_mont = df[df['NTL_weighted_percentage'] > 50]\n",
    "monitorable_pop = df_mont['pop_un_adj'].sum()/df['pop_un_adj'].sum()\n",
    "\n",
    "print(f\"Proportion of population that is monitorable (living in settlements with more than 50% NTL): {monitorable_pop:.2%}\")\n",
    "\n",
    "#settlements with any ntl\n",
    "df_anyntl = df[df['NTL_weighted_percentage'] > 0]\n",
    "pop_anyntl = df_anyntl['pop_un_adj'].sum()/df['pop_un_adj'].sum()\n",
    "\n",
    "print(f\"Proportion of population that lives in settlements with any NTL): {pop_anyntl:.2%}\")"
   ]
  },
  {
   "cell_type": "markdown",
   "id": "ec19da56-6c0d-4bd3-bed9-d0804a39c363",
   "metadata": {
    "papermill": {
     "duration": 0.00993,
     "end_time": "2024-07-13T00:23:16.891853",
     "exception": false,
     "start_time": "2024-07-13T00:23:16.881923",
     "status": "completed"
    },
    "tags": []
   },
   "source": [
    "\n",
    "# Calculate 80% threshold to have any nighttime light"
   ]
  },
  {
   "cell_type": "code",
   "execution_count": 14,
   "id": "efffe7a3-f798-4a07-99c0-13a65071aef9",
   "metadata": {
    "execution": {
     "iopub.execute_input": "2024-07-13T00:23:16.911216Z",
     "iopub.status.busy": "2024-07-13T00:23:16.910562Z",
     "iopub.status.idle": "2024-07-13T00:23:42.401039Z",
     "shell.execute_reply": "2024-07-13T00:23:42.398535Z"
    },
    "papermill": {
     "duration": 25.505116,
     "end_time": "2024-07-13T00:23:42.405159",
     "exception": false,
     "start_time": "2024-07-13T00:23:16.900043",
     "status": "completed"
    },
    "tags": []
   },
   "outputs": [
    {
     "name": "stdout",
     "output_type": "stream",
     "text": [
      "Optimization terminated successfully.\n",
      "         Current function value: 0.108914\n",
      "         Iterations 9\n"
     ]
    },
    {
     "name": "stdout",
     "output_type": "stream",
     "text": [
      "                           Logit Regression Results                           \n",
      "==============================================================================\n",
      "Dep. Variable:                any_ntl   No. Observations:              1376488\n",
      "Model:                          Logit   Df Residuals:                  1376486\n",
      "Method:                           MLE   Df Model:                            1\n",
      "Date:                Sat, 13 Jul 2024   Pseudo R-squ.:                 0.02696\n",
      "Time:                        02:23:42   Log-Likelihood:            -1.4992e+05\n",
      "converged:                       True   LL-Null:                   -1.5407e+05\n",
      "Covariance Type:            nonrobust   LLR p-value:                     0.000\n",
      "==============================================================================\n",
      "                 coef    std err          z      P>|z|      [0.025      0.975]\n",
      "------------------------------------------------------------------------------\n",
      "const         -3.7834      0.006   -655.658      0.000      -3.795      -3.772\n",
      "pop_un_adj     0.0003   4.23e-06     66.532      0.000       0.000       0.000\n",
      "==============================================================================\n",
      "The population threshold for 80% likelihood of having any NTL is approximately 24272.592393421357\n"
     ]
    }
   ],
   "source": [
    "import pandas as pd\n",
    "import statsmodels.api as sm\n",
    "import numpy as np\n",
    "\n",
    "# Load the dataset\n",
    "df = pd.read_csv(csv_name)\n",
    "\n",
    "# Create the 'any ntl' column, which just looks at whether there is any NTL in the settlement\n",
    "df['any_ntl'] = df['NTL_weighted_percentage'] > 0\n",
    "\n",
    "# Check for missing or infinite values in 'pop_un_adj'\n",
    "df = df.replace([np.inf, -np.inf], np.nan)\n",
    "# Drop rows with missing values\n",
    "df = df.dropna(subset=['pop_un_adj'])\n",
    "\n",
    "# Ensure there is variation in 'pop_un_adj' and 'any_ntl'\n",
    "if df['pop_un_adj'].nunique() <= 1 or df['any_ntl'].nunique() <= 1:\n",
    "    print(\"Insufficient variation in 'pop_un_adj' or 'any_ntl'. Setting threshold_anyntl to NaN.\")\n",
    "    threshold_anyntl = np.nan\n",
    "else:\n",
    "    try:\n",
    "        # Prepare the data for logistic regression\n",
    "        X = df['pop_un_adj']\n",
    "        y = df['any_ntl'].astype(int)  # Convert boolean to int (0 or 1)\n",
    "\n",
    "        # Add a small constant to avoid singular matrix\n",
    "        X = X + 1e-6\n",
    "\n",
    "        # Add a constant to the model (intercept)\n",
    "        X = sm.add_constant(X)\n",
    "\n",
    "        # Fit the logistic regression model\n",
    "        model = sm.Logit(y, X)\n",
    "        result = model.fit()\n",
    "\n",
    "        # Print the summary of the model\n",
    "        print(result.summary())\n",
    "\n",
    "        # Define the function to calculate the probability\n",
    "        def calculate_probability(population, model):\n",
    "            logit = model.params['const'] + model.params['pop_un_adj'] * population\n",
    "            return 1 / (1 + np.exp(-logit))\n",
    "\n",
    "        # Find the population threshold for 80% probability\n",
    "        population_range = np.linspace(df['pop_un_adj'].min(), df['pop_un_adj'].max(), 1000)\n",
    "        probabilities = [calculate_probability(pop, result) for pop in population_range]\n",
    "\n",
    "        # Find the population where the probability is closest to 0.8\n",
    "        threshold_anyntl = population_range[np.argmin(np.abs(np.array(probabilities) - 0.8))]\n",
    "        print(f\"The population threshold for 80% likelihood of having any NTL is approximately {threshold_anyntl}\")\n",
    "    except Exception as e:\n",
    "        print(f\"An error occurred: {str(e)}. Setting threshold_anyntl to NaN.\")\n",
    "        threshold_anyntl = np.nan\n"
   ]
  },
  {
   "cell_type": "markdown",
   "id": "3eb0e501-7883-4ff2-bd28-2f7e4dd40ef6",
   "metadata": {
    "papermill": {
     "duration": 0.008404,
     "end_time": "2024-07-13T00:23:42.421583",
     "exception": false,
     "start_time": "2024-07-13T00:23:42.413179",
     "status": "completed"
    },
    "tags": []
   },
   "source": [
    "# save stats to CSV"
   ]
  },
  {
   "cell_type": "code",
   "execution_count": 15,
   "id": "dafea3cc-6548-4053-baf6-44f210328350",
   "metadata": {
    "execution": {
     "iopub.execute_input": "2024-07-13T00:23:42.435963Z",
     "iopub.status.busy": "2024-07-13T00:23:42.435711Z",
     "iopub.status.idle": "2024-07-13T00:23:42.450491Z",
     "shell.execute_reply": "2024-07-13T00:23:42.448451Z"
    },
    "papermill": {
     "duration": 0.026487,
     "end_time": "2024-07-13T00:23:42.453531",
     "exception": false,
     "start_time": "2024-07-13T00:23:42.427044",
     "status": "completed"
    },
    "tags": []
   },
   "outputs": [
    {
     "name": "stdout",
     "output_type": "stream",
     "text": [
      "Data saved\n"
     ]
    }
   ],
   "source": [
    "# Create a list of dictionaries\n",
    "stats = [\n",
    "    {\"type\": \"Error\", \"what\": \"Settlements with over 100% NTL\", \"value\": something_wrong},\n",
    "    {\"type\": \"All settlements\", \"what\": \"Total number\", \"value\": len(df)},\n",
    "    {\"type\": \"All settlements\", \"what\": \"Proportion NTL\", \"value\": f\"{settl_ntl_perc:.2%}\"},\n",
    "    {\"type\": \"All settlements\", \"what\": \"Proportion monitorable\", \"value\": f\"{settl_monit_perc:.2%}\"},\n",
    "    {\"type\": \"All settlements\", \"what\": \"Median size NTL settlement\", \"value\": f\"{all_median_any}\"},\n",
    "\n",
    "\n",
    "    {\"type\": \"Built-up\", \"what\": \"Total number\", \"value\": df_built_up.shape[0]},\n",
    "    {\"type\": \"Built-up\", \"what\": \"Proportion NTL\", \"value\": f\"{built_ntl_perc:.2%}\"},\n",
    "    {\"type\": \"Built-up\", \"what\": \"Median NTL value for any NTL\", \"value\": f\"{built_median_any}\"},\n",
    "    {\"type\": \"Built-up\", \"what\": \"Proportion monitorable\", \"value\": f\"{built_monit_perc:.2%}\"},\n",
    "\n",
    "    {\"type\": \"Small settlements\", \"what\": \"Total number\", \"value\": df_small_set.shape[0]},\n",
    "    {\"type\": \"Small settlements\", \"what\": \"Proportion NTL\", \"value\": f\"{smallset_ntl_perc:.2%}\"},\n",
    "    {\"type\": \"Small settlements\", \"what\": \"Median NTL value for any NTL\", \"value\": f\"{small_median_any}\"},\n",
    "    {\"type\": \"Small settlements\", \"what\": \"Proportion monitorable\", \"value\": f\"{smallset_monit_perc:.2%}\"},\n",
    "\n",
    "    {\"type\": \"Hamlets\", \"what\": \"Total number\", \"value\": df_hamlet.shape[0]},\n",
    "    {\"type\": \"Hamlets\", \"what\": \"Proportion NTL\", \"value\": f\"{haml_ntl_perc:.2%}\"},\n",
    "    {\"type\": \"Hamlets\", \"what\": \"Median NTL value for any NTL\", \"value\": f\"{hamlet_median_any}\"},\n",
    "    {\"type\": \"Hamlets\", \"what\": \"Proportion monitorable\", \"value\": f\"{haml_monit_perc:.2%}\"},\n",
    "\n",
    "    {\"type\": \"Population\", \"what\": \"Proportion living in settlements with any NTL\", \"value\": f\"{pop_anyntl:.2%}\"},\n",
    "    {\"type\": \"Population\", \"what\": \"Proportion living in monitorable settlements\", \"value\": f\"{monitorable_pop:.2%}\"},\n",
    "    {\"type\": \"Threshold NTL\", \"what\": \"Threshold 0.8 likelihood of any NTL in a settlement\", \"value\": f\"{threshold_anyntl}\"},\n",
    "]\n",
    "\n",
    "# Convert the list of dictionaries into a DataFrame\n",
    "df_output = pd.DataFrame(stats)\n",
    "\n",
    "# Save the DataFrame to a CSV file\n",
    "output_file = 'overview_key_stats.csv'\n",
    "df_output.to_csv(output_file, index=False)\n",
    "\n",
    "print(\"Data saved\")\n"
   ]
  }
 ],
 "metadata": {
  "kernelspec": {
   "display_name": "Python 3 (ipykernel)",
   "language": "python",
   "name": "python3"
  },
  "language_info": {
   "codemirror_mode": {
    "name": "ipython",
    "version": 3
   },
   "file_extension": ".py",
   "mimetype": "text/x-python",
   "name": "python",
   "nbconvert_exporter": "python",
   "pygments_lexer": "ipython3",
   "version": "3.9.18"
  },
  "papermill": {
   "default_parameters": {},
   "duration": 3426.921177,
   "end_time": "2024-07-13T00:23:45.500534",
   "environment_variables": {},
   "exception": null,
   "input_path": "1_distance-parametrized.ipynb",
   "output_path": "output_NGA.ipynb",
   "parameters": {
    "countrycode": "NGA",
    "countryname": "Nigeria"
   },
   "start_time": "2024-07-12T23:26:38.579357",
   "version": "2.6.0"
  }
 },
 "nbformat": 4,
 "nbformat_minor": 5
}